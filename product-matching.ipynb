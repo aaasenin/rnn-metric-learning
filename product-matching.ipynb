{
 "cells": [
  {
   "cell_type": "markdown",
   "metadata": {},
   "source": [
    "## Выполнил Сенин Александр (aaasenin@gmail.com)\n",
    "\n",
    "Время выполнения - три дня.\n",
    "\n",
    "*28.10.21*"
   ]
  },
  {
   "cell_type": "markdown",
   "metadata": {},
   "source": [
    "## Условие\n",
    "\n",
    "Даны данные одного крупного онлайн магазина, перед которым стоит классическая задача продуктового мачинга. У магазина много поставщиков одинаковых товаров и все они называют их по разному, задача найти одни и те же товары с разными названиями и объединить их в группы.\n",
    "\n",
    "Для каждого товара нужно выдать список товаров которые модель считает одинаковыми. При этом таких товаров не может быть более 50 для одной группы. Метрикой для задачи будет среднее построчного F1."
   ]
  },
  {
   "cell_type": "code",
   "execution_count": 235,
   "metadata": {
    "id": "yKz4Vu6qCf9w"
   },
   "outputs": [],
   "source": [
    "import numpy as np\n",
    "import pandas as pd"
   ]
  },
  {
   "cell_type": "code",
   "execution_count": 236,
   "metadata": {
    "colab": {
     "base_uri": "https://localhost:8080/"
    },
    "id": "8PHatWupCf96",
    "outputId": "e3dfe08a-2efb-447b-904a-d3b9ff4a2a8c"
   },
   "outputs": [
    {
     "data": {
      "text/plain": [
       "(20952, 3)"
      ]
     },
     "execution_count": 236,
     "metadata": {},
     "output_type": "execute_result"
    }
   ],
   "source": [
    "df = pd.read_csv('train_data.csv')\n",
    "df.shape"
   ]
  },
  {
   "cell_type": "code",
   "execution_count": 237,
   "metadata": {
    "colab": {
     "base_uri": "https://localhost:8080/",
     "height": 204
    },
    "id": "I_2Bv2-rCf97",
    "outputId": "3038489a-b169-4ca8-8e0e-2931b2d6e573"
   },
   "outputs": [
    {
     "data": {
      "text/html": [
       "<div>\n",
       "<style scoped>\n",
       "    .dataframe tbody tr th:only-of-type {\n",
       "        vertical-align: middle;\n",
       "    }\n",
       "\n",
       "    .dataframe tbody tr th {\n",
       "        vertical-align: top;\n",
       "    }\n",
       "\n",
       "    .dataframe thead th {\n",
       "        text-align: right;\n",
       "    }\n",
       "</style>\n",
       "<table border=\"1\" class=\"dataframe\">\n",
       "  <thead>\n",
       "    <tr style=\"text-align: right;\">\n",
       "      <th></th>\n",
       "      <th>posting_id</th>\n",
       "      <th>title</th>\n",
       "      <th>label_group</th>\n",
       "    </tr>\n",
       "  </thead>\n",
       "  <tbody>\n",
       "    <tr>\n",
       "      <th>0</th>\n",
       "      <td>train_129225211</td>\n",
       "      <td>Paper Bag Victoria Secret</td>\n",
       "      <td>249114794</td>\n",
       "    </tr>\n",
       "    <tr>\n",
       "      <th>1</th>\n",
       "      <td>train_2278313361</td>\n",
       "      <td>PAPER BAG VICTORIA SECRET</td>\n",
       "      <td>249114794</td>\n",
       "    </tr>\n",
       "    <tr>\n",
       "      <th>2</th>\n",
       "      <td>train_2288590299</td>\n",
       "      <td>Maling TTS Canned Pork Luncheon Meat 397 gr</td>\n",
       "      <td>2395904891</td>\n",
       "    </tr>\n",
       "    <tr>\n",
       "      <th>3</th>\n",
       "      <td>train_3803689425</td>\n",
       "      <td>Maling Ham Pork Luncheon Meat TTS 397gr</td>\n",
       "      <td>2395904891</td>\n",
       "    </tr>\n",
       "    <tr>\n",
       "      <th>4</th>\n",
       "      <td>train_2406599165</td>\n",
       "      <td>Daster Batik Lengan pendek - Motif Acak / Camp...</td>\n",
       "      <td>4093212188</td>\n",
       "    </tr>\n",
       "  </tbody>\n",
       "</table>\n",
       "</div>"
      ],
      "text/plain": [
       "         posting_id                                              title  \\\n",
       "0   train_129225211                          Paper Bag Victoria Secret   \n",
       "1  train_2278313361                          PAPER BAG VICTORIA SECRET   \n",
       "2  train_2288590299        Maling TTS Canned Pork Luncheon Meat 397 gr   \n",
       "3  train_3803689425            Maling Ham Pork Luncheon Meat TTS 397gr   \n",
       "4  train_2406599165  Daster Batik Lengan pendek - Motif Acak / Camp...   \n",
       "\n",
       "   label_group  \n",
       "0    249114794  \n",
       "1    249114794  \n",
       "2   2395904891  \n",
       "3   2395904891  \n",
       "4   4093212188  "
      ]
     },
     "execution_count": 237,
     "metadata": {},
     "output_type": "execute_result"
    }
   ],
   "source": [
    "df.head()"
   ]
  },
  {
   "cell_type": "code",
   "execution_count": 238,
   "metadata": {
    "colab": {
     "base_uri": "https://localhost:8080/"
    },
    "id": "A5RAjcv0Cf97",
    "outputId": "6adc5bc5-754e-4482-ab2b-491d3327f85c"
   },
   "outputs": [
    {
     "data": {
      "text/plain": [
       "(6608,)"
      ]
     },
     "execution_count": 238,
     "metadata": {},
     "output_type": "execute_result"
    }
   ],
   "source": [
    "df.label_group.unique().shape"
   ]
  },
  {
   "cell_type": "code",
   "execution_count": 239,
   "metadata": {
    "id": "Oe0NXI3VCf98"
   },
   "outputs": [],
   "source": [
    "tmp = df.groupby(['label_group'])['posting_id'].unique().to_dict()\n",
    "df['matches'] = df['label_group'].map(tmp)\n",
    "df['matches'] = df['matches'].apply(lambda x: ' '.join(x))"
   ]
  },
  {
   "cell_type": "markdown",
   "metadata": {
    "id": "HmYLfOg7Cf99"
   },
   "source": [
    "Метрикой будет построчный f1."
   ]
  },
  {
   "cell_type": "code",
   "execution_count": 240,
   "metadata": {
    "id": "_6CEnJC7Cf9-"
   },
   "outputs": [],
   "source": [
    "def f1_score(y_true, y_pred):\n",
    "    y_true = y_true.apply(lambda x: set(x.split()))\n",
    "    y_pred = y_pred.apply(lambda x: set(x.split()))\n",
    "    intersection = np.array([len(x[0] & x[1]) for x in zip(y_true, y_pred)])\n",
    "    len_y_pred = y_pred.apply(lambda x: len(x)).values\n",
    "    len_y_true = y_true.apply(lambda x: len(x)).values\n",
    "    f1 = 2 * intersection / (len_y_pred + len_y_true)\n",
    "    return f1"
   ]
  },
  {
   "cell_type": "markdown",
   "metadata": {
    "id": "BiWnvryuCf9_"
   },
   "source": [
    "В качестве бейзлайна сопоставим себя в группу только с самим собой и каким-нибудь еще одним случайным товаром."
   ]
  },
  {
   "cell_type": "code",
   "execution_count": 241,
   "metadata": {
    "id": "cS0c12fyCf-A"
   },
   "outputs": [],
   "source": [
    "df['prediction'] = df['posting_id'] + ' ' + 'train_129225211'"
   ]
  },
  {
   "cell_type": "code",
   "execution_count": 242,
   "metadata": {
    "id": "7RmmAUt-Cf-A"
   },
   "outputs": [],
   "source": [
    "y_true = df['matches']\n",
    "y_pred = df['prediction']\n",
    "y_true = y_true.apply(lambda x: set(x.split()))\n",
    "y_pred = y_pred.apply(lambda x: set(x.split()))\n",
    "intersection = np.array([len(x[0] & x[1]) for x in zip(y_true, y_pred)])"
   ]
  },
  {
   "cell_type": "code",
   "execution_count": 243,
   "metadata": {
    "colab": {
     "base_uri": "https://localhost:8080/"
    },
    "id": "nyDelyt3Cf-B",
    "outputId": "43b7986b-0fcc-44d8-eff1-a2d69bbaa42f"
   },
   "outputs": [
    {
     "data": {
      "text/plain": [
       "0.35675992543848534"
      ]
     },
     "execution_count": 243,
     "metadata": {},
     "output_type": "execute_result"
    }
   ],
   "source": [
    "f1_score(df['matches'], df['prediction']).mean()"
   ]
  },
  {
   "cell_type": "markdown",
   "metadata": {
    "id": "8U2aUnnECf-C"
   },
   "source": [
    "Цель - улучшить эту метрику."
   ]
  },
  {
   "cell_type": "markdown",
   "metadata": {},
   "source": [
    "# Решение"
   ]
  },
  {
   "cell_type": "markdown",
   "metadata": {},
   "source": [
    "***Imports***"
   ]
  },
  {
   "cell_type": "code",
   "execution_count": 244,
   "metadata": {
    "colab": {
     "base_uri": "https://localhost:8080/"
    },
    "id": "ErKqKmSwCf91",
    "outputId": "5af3f2cc-bef6-42fc-9e44-c6a1b8fd0397"
   },
   "outputs": [],
   "source": [
    "#import sys\n",
    "#!{sys.executable} -m pip install metric-learn\n",
    "#!{sys.executable} -m pip install jellyfish\n",
    "#!{sys.executable} -m pip install fuzzywuzzy\n",
    "#!{sys.executable} -m pip install stopwords\n",
    "#!{sys.executable} -m pip install pytorch_metric_learning\n",
    "#!{sys.executable} -m pip install python_levenshtein\n",
    "#!{sys.executable} -m pip install optuna"
   ]
  },
  {
   "cell_type": "code",
   "execution_count": 245,
   "metadata": {
    "colab": {
     "base_uri": "https://localhost:8080/"
    },
    "id": "A51PKaI1Ck1L",
    "outputId": "be706129-155e-4e16-f430-08555db7fac8"
   },
   "outputs": [],
   "source": [
    "#from google.colab import drive\n",
    "#drive.mount('/content/drive')\n",
    "#path = '/content/drive/My Drive/train_data.csv'"
   ]
  },
  {
   "cell_type": "code",
   "execution_count": 246,
   "metadata": {
    "id": "5hg1Un9lCf93"
   },
   "outputs": [],
   "source": [
    "import seaborn as sns\n",
    "import matplotlib.pyplot as plt\n",
    "import time\n",
    "from tqdm import tqdm \n",
    "from itertools import combinations\n",
    "\n",
    "import string\n",
    "import re\n",
    "import stopwords\n",
    "from nltk.stem.porter import PorterStemmer\n",
    "from nltk.stem import WordNetLemmatizer\n",
    "from gensim.models import FastText, Word2Vec\n",
    "import jellyfish as jf\n",
    "from fuzzywuzzy import fuzz\n",
    "\n",
    "from sklearn.metrics import f1_score as f1_sklearn\n",
    "from sklearn.feature_extraction.text import TfidfVectorizer\n",
    "from sklearn.neighbors import NearestNeighbors\n",
    "from sklearn.metrics.pairwise import euclidean_distances\n",
    "from sklearn.metrics.pairwise import cosine_similarity\n",
    "from sklearn.model_selection import train_test_split\n",
    "from sklearn.metrics import confusion_matrix\n",
    "from sklearn.metrics import classification_report\n",
    "from sklearn.metrics import roc_auc_score\n",
    "\n",
    "from scipy.spatial import distance_matrix\n",
    "from scipy.sparse import csr_matrix\n",
    "\n",
    "# import os\n",
    "# os.environ['KMP_DUPLICATE_LIB_OK']='True'\n",
    "from xgboost import XGBClassifier\n",
    "import optuna\n",
    "import functools"
   ]
  },
  {
   "cell_type": "code",
   "execution_count": 247,
   "metadata": {
    "id": "gZdtatBJCf94"
   },
   "outputs": [],
   "source": [
    "import torch\n",
    "import torch.nn as nn\n",
    "from torch.autograd import Variable\n",
    "from torch.nn.utils.rnn import pad_sequence, pack_padded_sequence, pad_packed_sequence\n",
    "from torch.utils.data import DataLoader"
   ]
  },
  {
   "cell_type": "code",
   "execution_count": 248,
   "metadata": {
    "colab": {
     "base_uri": "https://localhost:8080/"
    },
    "id": "-awUSeVYCf95",
    "outputId": "f91b7538-1f81-429b-a518-657b3b2d18b0"
   },
   "outputs": [],
   "source": [
    "from metric_learn import RCA\n",
    "from pytorch_metric_learning import samplers, losses, reducers"
   ]
  },
  {
   "cell_type": "code",
   "execution_count": 249,
   "metadata": {
    "id": "pfcVj6kECf95"
   },
   "outputs": [],
   "source": [
    "import warnings\n",
    "warnings.filterwarnings(\"ignore\")"
   ]
  },
  {
   "cell_type": "markdown",
   "metadata": {
    "id": "2k44IX_WCf-C"
   },
   "source": [
    "***Немного EDA***"
   ]
  },
  {
   "cell_type": "markdown",
   "metadata": {},
   "source": [
    "В архиве помимо train_data.csv лежит test_data.csv, но там нет таргета (что логично). Поэтому, работаем только с train_data.csv, а для оценки качества поступаем так:\n",
    "- В случае unsupervised методов оцениваемся на всей выборке\n",
    "- В случае supervised методов откладываем валидационную выборку размера 0.2~0.3 от общей и оцениваемся на ней"
   ]
  },
  {
   "cell_type": "code",
   "execution_count": 250,
   "metadata": {
    "colab": {
     "base_uri": "https://localhost:8080/"
    },
    "id": "qLlDVEiBCf-D",
    "outputId": "a4e636d5-cf54-48c7-c9fb-7fb7e4a0c886"
   },
   "outputs": [
    {
     "data": {
      "text/plain": [
       "(20952,)"
      ]
     },
     "execution_count": 250,
     "metadata": {},
     "output_type": "execute_result"
    }
   ],
   "source": [
    "df[\"posting_id\"].unique().shape"
   ]
  },
  {
   "cell_type": "markdown",
   "metadata": {
    "id": "dI_QoFItCf-E"
   },
   "source": [
    "Совпадает с размером датасета, значит posting_id - честный уникальный айди."
   ]
  },
  {
   "cell_type": "markdown",
   "metadata": {},
   "source": [
    "Смотрим на распределение длины таргета (колонки matches)."
   ]
  },
  {
   "cell_type": "code",
   "execution_count": 251,
   "metadata": {
    "id": "gCJMtGdOCf-E"
   },
   "outputs": [],
   "source": [
    "df[\"matches_len\"] = df[\"matches\"].apply(lambda x: len(x.split()))"
   ]
  },
  {
   "cell_type": "code",
   "execution_count": 252,
   "metadata": {
    "colab": {
     "base_uri": "https://localhost:8080/",
     "height": 282
    },
    "id": "2OePvSktCf-F",
    "outputId": "714703b8-c1e8-4752-a0c3-03a80039c422"
   },
   "outputs": [
    {
     "data": {
      "text/plain": [
       "<AxesSubplot:ylabel='Frequency'>"
      ]
     },
     "execution_count": 252,
     "metadata": {},
     "output_type": "execute_result"
    },
    {
     "data": {
      "image/png": "[encoded data removed]",
      "text/plain": [
       "<Figure size 432x288 with 1 Axes>"
      ]
     },
     "metadata": {
      "needs_background": "light"
     },
     "output_type": "display_data"
    }
   ],
   "source": [
    "df[\"matches_len\"].plot.hist(bins=50)"
   ]
  },
  {
   "cell_type": "markdown",
   "metadata": {},
   "source": [
    "В 8к случаев таргет длины 2. Учитываем, что в таргете для каждого объекта уже есть айди этого же объекта. То есть в 8к случаев у объекта есть всего один сосед, которого нужно найти.\n",
    "\n",
    "Из этих соображений понятно, почему значение F1 на бейзлайне - 0.35. В 8к случаев у нас уже есть половина ответа (в предсказание протекает айди самого объекта). Поэтому, возможно, лучше было бы считать F1 на ответах без айди самого объекта.\n",
    "\n",
    "Еще заметим, что у большей половины объектов длина таргета не превосходит 6."
   ]
  },
  {
   "cell_type": "markdown",
   "metadata": {
    "id": "t884l3tWCf-G"
   },
   "source": [
    "Посмотрим на самый большой (и самый редкий) кластер (множество объектов с одинаковым таргетом, причем длина этого таргета максимальна в данном случае)."
   ]
  },
  {
   "cell_type": "code",
   "execution_count": 253,
   "metadata": {
    "colab": {
     "base_uri": "https://localhost:8080/",
     "height": 241
    },
    "id": "3k9gMgN4Cf-H",
    "outputId": "9555758e-368a-4611-cfab-83a2f00c09a7"
   },
   "outputs": [
    {
     "data": {
      "text/html": [
       "<div>\n",
       "<style scoped>\n",
       "    .dataframe tbody tr th:only-of-type {\n",
       "        vertical-align: middle;\n",
       "    }\n",
       "\n",
       "    .dataframe tbody tr th {\n",
       "        vertical-align: top;\n",
       "    }\n",
       "\n",
       "    .dataframe thead th {\n",
       "        text-align: right;\n",
       "    }\n",
       "</style>\n",
       "<table border=\"1\" class=\"dataframe\">\n",
       "  <thead>\n",
       "    <tr style=\"text-align: right;\">\n",
       "      <th></th>\n",
       "      <th>posting_id</th>\n",
       "      <th>title</th>\n",
       "      <th>label_group</th>\n",
       "      <th>matches</th>\n",
       "      <th>prediction</th>\n",
       "      <th>matches_len</th>\n",
       "    </tr>\n",
       "  </thead>\n",
       "  <tbody>\n",
       "    <tr>\n",
       "      <th>1066</th>\n",
       "      <td>train_2648609819</td>\n",
       "      <td>Bee123 Kain lap kanebo</td>\n",
       "      <td>821583868</td>\n",
       "      <td>train_2648609819 train_3784133722 train_236576...</td>\n",
       "      <td>train_2648609819 train_129225211</td>\n",
       "      <td>26</td>\n",
       "    </tr>\n",
       "    <tr>\n",
       "      <th>1067</th>\n",
       "      <td>train_3784133722</td>\n",
       "      <td>KANEBO SERAT SERAP AIR / LAP KAIN KANEBO MURAH...</td>\n",
       "      <td>821583868</td>\n",
       "      <td>train_2648609819 train_3784133722 train_236576...</td>\n",
       "      <td>train_3784133722 train_129225211</td>\n",
       "      <td>26</td>\n",
       "    </tr>\n",
       "    <tr>\n",
       "      <th>1068</th>\n",
       "      <td>train_2365762721</td>\n",
       "      <td>KANEBO SERAT SUPER TEBAL HALUS</td>\n",
       "      <td>821583868</td>\n",
       "      <td>train_2648609819 train_3784133722 train_236576...</td>\n",
       "      <td>train_2365762721 train_129225211</td>\n",
       "      <td>26</td>\n",
       "    </tr>\n",
       "    <tr>\n",
       "      <th>1069</th>\n",
       "      <td>train_3276258443</td>\n",
       "      <td>Kanebo Refil Polos Sedang - Grosir - AION Plas...</td>\n",
       "      <td>821583868</td>\n",
       "      <td>train_2648609819 train_3784133722 train_236576...</td>\n",
       "      <td>train_3276258443 train_129225211</td>\n",
       "      <td>26</td>\n",
       "    </tr>\n",
       "  </tbody>\n",
       "</table>\n",
       "</div>"
      ],
      "text/plain": [
       "            posting_id                                              title  \\\n",
       "1066  train_2648609819                             Bee123 Kain lap kanebo   \n",
       "1067  train_3784133722  KANEBO SERAT SERAP AIR / LAP KAIN KANEBO MURAH...   \n",
       "1068  train_2365762721                     KANEBO SERAT SUPER TEBAL HALUS   \n",
       "1069  train_3276258443  Kanebo Refil Polos Sedang - Grosir - AION Plas...   \n",
       "\n",
       "      label_group                                            matches  \\\n",
       "1066    821583868  train_2648609819 train_3784133722 train_236576...   \n",
       "1067    821583868  train_2648609819 train_3784133722 train_236576...   \n",
       "1068    821583868  train_2648609819 train_3784133722 train_236576...   \n",
       "1069    821583868  train_2648609819 train_3784133722 train_236576...   \n",
       "\n",
       "                            prediction  matches_len  \n",
       "1066  train_2648609819 train_129225211           26  \n",
       "1067  train_3784133722 train_129225211           26  \n",
       "1068  train_2365762721 train_129225211           26  \n",
       "1069  train_3276258443 train_129225211           26  "
      ]
     },
     "execution_count": 253,
     "metadata": {},
     "output_type": "execute_result"
    }
   ],
   "source": [
    "df[df[\"matches_len\"] == 26].head(4)"
   ]
  },
  {
   "cell_type": "markdown",
   "metadata": {
    "id": "wG6XxSOOCf-H"
   },
   "source": [
    "Во всех названиях есть слово \"kanebo\". Посмотрим на объекты с таргетом длины 2."
   ]
  },
  {
   "cell_type": "code",
   "execution_count": 254,
   "metadata": {
    "colab": {
     "base_uri": "https://localhost:8080/",
     "height": 235
    },
    "id": "UompZ7A3Cf-I",
    "outputId": "a8f2fa07-12f1-4349-d8e3-a6a593c5f77c"
   },
   "outputs": [
    {
     "data": {
      "text/html": [
       "<div>\n",
       "<style scoped>\n",
       "    .dataframe tbody tr th:only-of-type {\n",
       "        vertical-align: middle;\n",
       "    }\n",
       "\n",
       "    .dataframe tbody tr th {\n",
       "        vertical-align: top;\n",
       "    }\n",
       "\n",
       "    .dataframe thead th {\n",
       "        text-align: right;\n",
       "    }\n",
       "</style>\n",
       "<table border=\"1\" class=\"dataframe\">\n",
       "  <thead>\n",
       "    <tr style=\"text-align: right;\">\n",
       "      <th></th>\n",
       "      <th>posting_id</th>\n",
       "      <th>title</th>\n",
       "      <th>label_group</th>\n",
       "      <th>matches</th>\n",
       "      <th>prediction</th>\n",
       "      <th>matches_len</th>\n",
       "    </tr>\n",
       "  </thead>\n",
       "  <tbody>\n",
       "    <tr>\n",
       "      <th>0</th>\n",
       "      <td>train_129225211</td>\n",
       "      <td>Paper Bag Victoria Secret</td>\n",
       "      <td>249114794</td>\n",
       "      <td>train_129225211 train_2278313361</td>\n",
       "      <td>train_129225211 train_129225211</td>\n",
       "      <td>2</td>\n",
       "    </tr>\n",
       "    <tr>\n",
       "      <th>1</th>\n",
       "      <td>train_2278313361</td>\n",
       "      <td>PAPER BAG VICTORIA SECRET</td>\n",
       "      <td>249114794</td>\n",
       "      <td>train_129225211 train_2278313361</td>\n",
       "      <td>train_2278313361 train_129225211</td>\n",
       "      <td>2</td>\n",
       "    </tr>\n",
       "    <tr>\n",
       "      <th>2</th>\n",
       "      <td>train_2288590299</td>\n",
       "      <td>Maling TTS Canned Pork Luncheon Meat 397 gr</td>\n",
       "      <td>2395904891</td>\n",
       "      <td>train_2288590299 train_3803689425</td>\n",
       "      <td>train_2288590299 train_129225211</td>\n",
       "      <td>2</td>\n",
       "    </tr>\n",
       "    <tr>\n",
       "      <th>3</th>\n",
       "      <td>train_3803689425</td>\n",
       "      <td>Maling Ham Pork Luncheon Meat TTS 397gr</td>\n",
       "      <td>2395904891</td>\n",
       "      <td>train_2288590299 train_3803689425</td>\n",
       "      <td>train_3803689425 train_129225211</td>\n",
       "      <td>2</td>\n",
       "    </tr>\n",
       "    <tr>\n",
       "      <th>4</th>\n",
       "      <td>train_2406599165</td>\n",
       "      <td>Daster Batik Lengan pendek - Motif Acak / Camp...</td>\n",
       "      <td>4093212188</td>\n",
       "      <td>train_2406599165 train_3342059966</td>\n",
       "      <td>train_2406599165 train_129225211</td>\n",
       "      <td>2</td>\n",
       "    </tr>\n",
       "    <tr>\n",
       "      <th>5</th>\n",
       "      <td>train_3342059966</td>\n",
       "      <td>DASTER PIYAMA KATUN JEPANG(TIDAK BISA PILIH MO...</td>\n",
       "      <td>4093212188</td>\n",
       "      <td>train_2406599165 train_3342059966</td>\n",
       "      <td>train_3342059966 train_129225211</td>\n",
       "      <td>2</td>\n",
       "    </tr>\n",
       "  </tbody>\n",
       "</table>\n",
       "</div>"
      ],
      "text/plain": [
       "         posting_id                                              title  \\\n",
       "0   train_129225211                          Paper Bag Victoria Secret   \n",
       "1  train_2278313361                          PAPER BAG VICTORIA SECRET   \n",
       "2  train_2288590299        Maling TTS Canned Pork Luncheon Meat 397 gr   \n",
       "3  train_3803689425            Maling Ham Pork Luncheon Meat TTS 397gr   \n",
       "4  train_2406599165  Daster Batik Lengan pendek - Motif Acak / Camp...   \n",
       "5  train_3342059966  DASTER PIYAMA KATUN JEPANG(TIDAK BISA PILIH MO...   \n",
       "\n",
       "   label_group                            matches  \\\n",
       "0    249114794   train_129225211 train_2278313361   \n",
       "1    249114794   train_129225211 train_2278313361   \n",
       "2   2395904891  train_2288590299 train_3803689425   \n",
       "3   2395904891  train_2288590299 train_3803689425   \n",
       "4   4093212188  train_2406599165 train_3342059966   \n",
       "5   4093212188  train_2406599165 train_3342059966   \n",
       "\n",
       "                         prediction  matches_len  \n",
       "0   train_129225211 train_129225211            2  \n",
       "1  train_2278313361 train_129225211            2  \n",
       "2  train_2288590299 train_129225211            2  \n",
       "3  train_3803689425 train_129225211            2  \n",
       "4  train_2406599165 train_129225211            2  \n",
       "5  train_3342059966 train_129225211            2  "
      ]
     },
     "execution_count": 254,
     "metadata": {},
     "output_type": "execute_result"
    }
   ],
   "source": [
    "df[df[\"matches_len\"] == 2].head(6)"
   ]
  },
  {
   "cell_type": "markdown",
   "metadata": {
    "id": "nehgq9zoCf-I"
   },
   "source": [
    "Здесь аналогично, есть небольшие пересечения некоторых уникальных слов."
   ]
  },
  {
   "cell_type": "markdown",
   "metadata": {
    "id": "HX8wTLGcCf-J"
   },
   "source": [
    "### Простое ML решение"
   ]
  },
  {
   "cell_type": "markdown",
   "metadata": {
    "id": "nIa0_fSaCf-J"
   },
   "source": [
    "Возникает первая плодотворная идея. Хотим обращать внимание на пересечение редких слов - тут подойдет tf-idf, особенно важен множитель idf - он и даст степень редкости. "
   ]
  },
  {
   "cell_type": "code",
   "execution_count": 255,
   "metadata": {
    "id": "0FuRLCvmCf-J"
   },
   "outputs": [],
   "source": [
    "df[\"pure_matches\"] = (df[\"matches\"].apply(lambda x: set(x.split())) - \\\n",
    "                      df[\"posting_id\"].apply(lambda x: set([x]))).apply(lambda x: ''.join(x))"
   ]
  },
  {
   "cell_type": "code",
   "execution_count": 256,
   "metadata": {
    "id": "7Nmso2wrCf-K"
   },
   "outputs": [],
   "source": [
    "tfidf = TfidfVectorizer(stop_words=\"english\")\n",
    "X = tfidf.fit_transform(df['title'])\n",
    "y = df[\"label_group\"]"
   ]
  },
  {
   "cell_type": "markdown",
   "metadata": {
    "id": "q90Az9E2Cf-L"
   },
   "source": [
    "Построим для каждого объекта tf-idf представление. Воспользуемся тем, что в длина таргета 2 - очень популярна. Будем предсказывать одного ближайшего соседа в пространстве tf-idf (если в двух заголовках одного и того же товара есть общие уникальные слова, то их tf-idf представления будут похожи)."
   ]
  },
  {
   "cell_type": "code",
   "execution_count": 257,
   "metadata": {
    "id": "qKPMbra-Cf-N"
   },
   "outputs": [],
   "source": [
    "nbrs = NearestNeighbors(n_neighbors=2, algorithm='ball_tree').fit(X)\n",
    "distances, indices = nbrs.kneighbors(X)"
   ]
  },
  {
   "cell_type": "code",
   "execution_count": 259,
   "metadata": {
    "id": "1ngnUiX9Cf-P"
   },
   "outputs": [],
   "source": [
    "df[\"knn_pred\"] = \"\"\n",
    "for i, val in enumerate(indices):\n",
    "    df[\"knn_pred\"].iloc[i] = f\"{df['posting_id'].iloc[val[0]]} {df['posting_id'].iloc[val[1]]}\""
   ]
  },
  {
   "cell_type": "code",
   "execution_count": 260,
   "metadata": {
    "colab": {
     "base_uri": "https://localhost:8080/"
    },
    "id": "O5jzVBDwCf-Q",
    "outputId": "9ff5c226-90fe-4800-a8e9-4ba2d34144dd"
   },
   "outputs": [
    {
     "data": {
      "text/plain": [
       "0.6081975535382363"
      ]
     },
     "execution_count": 260,
     "metadata": {},
     "output_type": "execute_result"
    }
   ],
   "source": [
    "f1_score(df['matches'], df['knn_pred']).mean()"
   ]
  },
  {
   "cell_type": "markdown",
   "metadata": {
    "id": "dzmgkA8QCf-R"
   },
   "source": [
    "**Качество выросло в 2 раза - 0.61**. Ключевой недостаток - предсказываем ответ фиксированной длины 2, а он, вообще говоря, произволен. Если это исправить, потенциально можно получить качество больше."
   ]
  },
  {
   "cell_type": "markdown",
   "metadata": {
    "id": "GojdJscACf-R"
   },
   "source": [
    "Можно даже посчитать метрику (качество) на объектах, для которых таргет действительно длины 2."
   ]
  },
  {
   "cell_type": "code",
   "execution_count": 261,
   "metadata": {
    "id": "b9WCe8QqCf-R"
   },
   "outputs": [],
   "source": [
    "base_df = df[df[\"matches_len\"] == 2]"
   ]
  },
  {
   "cell_type": "code",
   "execution_count": 262,
   "metadata": {
    "id": "Aosc3JV-Cf-S"
   },
   "outputs": [],
   "source": [
    "tfidf = TfidfVectorizer(stop_words=\"english\")\n",
    "X = tfidf.fit_transform(base_df['title'])\n",
    "y = base_df[\"label_group\"]"
   ]
  },
  {
   "cell_type": "code",
   "execution_count": 263,
   "metadata": {
    "id": "22co-q2QCf-S"
   },
   "outputs": [],
   "source": [
    "nbrs = NearestNeighbors(n_neighbors=2, algorithm='ball_tree').fit(X)\n",
    "distances, indices = nbrs.kneighbors(X)"
   ]
  },
  {
   "cell_type": "code",
   "execution_count": 264,
   "metadata": {
    "id": "nf4du0OQCf-T"
   },
   "outputs": [],
   "source": [
    "base_df[\"knn_pred\"] = \"\"\n",
    "for i, val in enumerate(indices):\n",
    "    base_df[\"knn_pred\"].iloc[i] = f\"{base_df['posting_id'].iloc[val[0]]} {base_df['posting_id'].iloc[val[1]]}\""
   ]
  },
  {
   "cell_type": "code",
   "execution_count": 265,
   "metadata": {
    "colab": {
     "base_uri": "https://localhost:8080/"
    },
    "id": "dQiujUldCf-U",
    "outputId": "1bca73d3-e2ea-4fc8-8d07-7d7f35b1a4fa"
   },
   "outputs": [
    {
     "data": {
      "text/plain": [
       "0.8616534104603519"
      ]
     },
     "execution_count": 265,
     "metadata": {},
     "output_type": "execute_result"
    }
   ],
   "source": [
    "f1_score(base_df['matches'], base_df['knn_pred']).mean()"
   ]
  },
  {
   "cell_type": "markdown",
   "metadata": {
    "id": "fEZpUnHCCf-U"
   },
   "source": [
    "**Только на таргетах длины 2 - качество 0.86**. Действительно, метрика сильно проседает из-за предположения о фиксированной длине таргета. Это хороший знак - задача хорошо ложится под построение эмбеддингов и нахождение кластеров каким-нибудь расстоянием. Даже в случае, когда в качестве эмбеддингов используется tf-idf представление вместе с евклидовым расстоянием (которое, вообще говоря, не обязано хорошо работать на сильно разреженных векторах tf-idf огромной размерности) - уже получается неплохое качество. \n",
    "\n",
    "Важное замечание: kNN (1NN) никак не использовал таргет, только tf-idf представления, то есть это чистое unsupervised решение."
   ]
  },
  {
   "cell_type": "markdown",
   "metadata": {},
   "source": [
    "Введем метки кластеров (на самом деле они уже были в оригинальном датасете, поэтому просто нумеруем заново)."
   ]
  },
  {
   "cell_type": "code",
   "execution_count": 266,
   "metadata": {
    "id": "Bjr_ayDtCf-X"
   },
   "outputs": [],
   "source": [
    "del df[\"label_group\"]\n",
    "\n",
    "matches_to_labels = {}\n",
    "label = 0\n",
    "matches_tupled = df[\"matches\"].apply(lambda x: tuple(sorted(x.split())))\n",
    "for key in matches_tupled.values:\n",
    "    if key not in matches_to_labels:\n",
    "        matches_to_labels[key] = label\n",
    "        label += 1\n",
    "        \n",
    "df[\"label\"] = matches_tupled.apply(lambda x: matches_to_labels[x])"
   ]
  },
  {
   "cell_type": "markdown",
   "metadata": {
    "id": "q2J7M2Q9Cf-Y"
   },
   "source": [
    "***Text preprocessing***"
   ]
  },
  {
   "cell_type": "markdown",
   "metadata": {},
   "source": [
    "Попробуем более сложное решение. Работаем с текстами - нужен препроцессинг. Удаляем пунктуацию, стопслова, приводим к одному регистру, лемматизируем и токенизируем."
   ]
  },
  {
   "cell_type": "code",
   "execution_count": 39,
   "metadata": {
    "id": "-FgNjRmHCf-Y"
   },
   "outputs": [],
   "source": [
    "extended_punctuation = \"\"\"'!\"#$%&\\'()*,-/:;®™<=>?@[\\\\]^_`{|}~+\"\"\"\n",
    "\n",
    "def remove_punct(s):\n",
    "    return \"\".join([char for char in s if char not in extended_punctuation])\n",
    "\n",
    "def lower(s):\n",
    "    return s.lower()\n",
    "\n",
    "def reduce_spaces(s):\n",
    "    return re.sub(' +', ' ', s)\n",
    "\n",
    "def tokenize(s):\n",
    "    s = s.replace(\".\", \" \")\n",
    "    return s.split()\n",
    "\n",
    "def filter_stop_words(tokens):\n",
    "    stop_words = stopwords.get_stopwords(\"english\")\n",
    "    return [token for token in tokens if token not in stop_words]\n",
    "\n",
    "def stem(tokens):\n",
    "    stemmer = PorterStemmer()\n",
    "    return [stemmer.stem(token) for token in tokens]\n",
    "   \n",
    "def lemmatize(tokens):\n",
    "    lemmatizer = WordNetLemmatizer()\n",
    "    return [lemmatizer.lemmatize(token) for token in tokens]\n",
    "\n",
    "def preproc(s):\n",
    "    clean_s = reduce_spaces(remove_punct(lower(s)))\n",
    "    tokens = lemmatize(filter_stop_words(tokenize(clean_s)))\n",
    "    return np.array(tokens)"
   ]
  },
  {
   "cell_type": "code",
   "execution_count": 41,
   "metadata": {
    "id": "Gw2nDTRICf-Z"
   },
   "outputs": [],
   "source": [
    "#import nltk\n",
    "#nltk.download('wordnet')\n",
    "\n",
    "df['text'] = df['title'].apply(lambda x: preproc(x))"
   ]
  },
  {
   "cell_type": "markdown",
   "metadata": {
    "id": "t2gCECYWCf-a"
   },
   "source": [
    "### DL решение"
   ]
  },
  {
   "cell_type": "markdown",
   "metadata": {},
   "source": [
    "Опишем мотивацию выбора архитектуры.\n",
    "\n",
    "Хотим применить нейронки. Пусть с помощью нейронки для каждого объекта (суть заголовка товара) можем получить эмбеддинг. Тогда в пространстве эмбеддингов сможем найти кластеры объектов. Это могут быть как кластеры размера 2 (пары объектов, та же идея с 1NN), это могут быть и кластеры произвольного размера. В теории по эмбеддингам можем посчитать расстояния на парах объектов, а затем по некоторому порогу определять соседей. Другими словами, для каждого объекта будем относить в один с ним кластер все объекты в шаре (в случае евклидовой метрики) некоторого радиуса (который и определяется порогом) с центром в эмбеддинге этого объекта. Подход с кластером размера 2 будем называть 1NN, подход с варьированием порога - adaptive neighbors (адаптивный в смысле перебора порога).\n",
    "\n",
    "Осталось обучить нейронку строить эмбеддинги..."
   ]
  },
  {
   "cell_type": "markdown",
   "metadata": {},
   "source": [
    "Смотрим на число слов в датасете."
   ]
  },
  {
   "cell_type": "code",
   "execution_count": 42,
   "metadata": {
    "id": "E98GK8eDCf-a"
   },
   "outputs": [],
   "source": [
    "def vocab(series):\n",
    "    return {\n",
    "        token\n",
    "        for tokens in series.values\n",
    "            for token in tokens\n",
    "    }"
   ]
  },
  {
   "cell_type": "code",
   "execution_count": 43,
   "metadata": {
    "colab": {
     "base_uri": "https://localhost:8080/"
    },
    "id": "rm_9zptGCf-b",
    "outputId": "27ed8b22-65d0-44b5-baa5-c38c72395599"
   },
   "outputs": [
    {
     "data": {
      "text/plain": [
       "19987"
      ]
     },
     "execution_count": 43,
     "metadata": {},
     "output_type": "execute_result"
    }
   ],
   "source": [
    "len(vocab(df['text']))"
   ]
  },
  {
   "cell_type": "markdown",
   "metadata": {},
   "source": [
    "Почти 20к, причем в валидационной (тестовой) выборке могут оказаться незнакомые слова. Более того, среди этих 20к слов много уникальных (крайне редко встречающихся). Например, название каких-нибудь уникальных наушников (которое встретится в худшем случае всего 2 раза в выборке) Sony в духе \"Sony Wireless Z Ultra C6833 HX-mk2\" породит слова \"C6833\" и \"HX-mk2\".\n",
    "\n",
    "В этих условиях, строить эмбеддинг заголовка на базе его слов проблематично. За единицу отсчета возьмем символы. Посимвольные RNN-ки тоже неплохо работают, и даже умеют генерить полуосмысленный текст, если обучать их предсказывать следующий символ.\n",
    "\n",
    "Следующая проблема - заголовки у нас последовательности произвольной длины. Возьмем идею энкодера из seq2seq. В классике энкодер представляет собой RNN-блок, который, получив последовательность слов или символов, возвращает некоторый сжатый вектор, который уже декодируется декодером.\n",
    "\n",
    "Длины последовательностей символов заголовков могут быть приличные, а RNN имеет свойство забывать. Поэтому будем использовать LSTM блок.\n",
    "\n",
    "Будем считать, что энкодер закодирует нам эмбеддинг, далее нужно подсказать сети, какие эмбеддинги соответствуют одному товару, а какие разным. Здесь подойдет metric learning. Используем логику работы сиамских сетей и старый-добрый triplet loss (contrasitive loss показал себя хуже).\n",
    "\n",
    "Резюмируем:\n",
    "- *На этапе обучения* разбиваем заголовок на последовательность символов, каждый символ подаем на вход LSTM блоку, скрытое состояние перекидываем следующему блоку, так до тех пор, пока последовательность не закончится. Получаем вектор скрытого состояния, к которому относимся как к эмбеддингу, полученному энкодером. Аналогично получаем эмбеддинги anchor-positive и anchor-negative объектов. Аггрегируем эти эмбеддинги с помощью triplet loss, заставляем их расстояния отличаться на величину отступа (margin). После, кстати, будет логично использовать значение близкое к отступу в качестве порога в адаптивном поиске кластеров.\n",
    "- *На этапе контроля* получаем эмбеддинги обученным энкодером, а затем ищем в пространстве эмбеддингов соседа (1NN) или соседей по порогу (adaptive)."
   ]
  },
  {
   "cell_type": "markdown",
   "metadata": {},
   "source": [
    "***Tokens encoding***"
   ]
  },
  {
   "cell_type": "markdown",
   "metadata": {},
   "source": [
    "Сохраняем биекцию символов в числовые коды (LSTM блок на вход принимает числа), переводим весь наш корпус в эти коды."
   ]
  },
  {
   "cell_type": "code",
   "execution_count": 44,
   "metadata": {
    "id": "f89CFKXcCf-d"
   },
   "outputs": [],
   "source": [
    "def build_corpus_per_word(text_series):\n",
    "    corpus = [\n",
    "        tokens.tolist()\n",
    "        for series in text_series\n",
    "            for tokens in series.values\n",
    "    ]\n",
    "    return corpus\n",
    "\n",
    "def build_corpus_per_char(text_series):\n",
    "    corpus = [\n",
    "        list(\"_\".join(tokens.tolist()))\n",
    "        for series in text_series\n",
    "            for tokens in series.values\n",
    "    ]\n",
    "    return corpus"
   ]
  },
  {
   "cell_type": "code",
   "execution_count": 45,
   "metadata": {
    "id": "WOftt9ytCf-e"
   },
   "outputs": [],
   "source": [
    "class Corpus:\n",
    "    def __init__(self, default_tokens):\n",
    "        self.token2idx = default_tokens\n",
    "        self.token2count = {token: 1 for token in default_tokens}\n",
    "        self.idx2token = {default_tokens[token]: token for token in default_tokens}\n",
    "        self.n_words = len(default_tokens)\n",
    "    \n",
    "    def fit(self, corpus):\n",
    "        self.corpus = corpus\n",
    "        for tokens in corpus:\n",
    "            for token in tokens:\n",
    "                if token in self.token2idx:\n",
    "                    self.token2count[token] += 1\n",
    "                else:\n",
    "                    self.token2idx[token] = self.n_words\n",
    "                    self.token2count[token] = 1\n",
    "                    self.idx2token[self.n_words] = token\n",
    "                    self.n_words += 1"
   ]
  },
  {
   "cell_type": "code",
   "execution_count": null,
   "metadata": {
    "id": "0HSnU6vaCf-e"
   },
   "outputs": [],
   "source": [
    "def transform_chars(batch, corpus):\n",
    "    return [\n",
    "        [corpus.token2idx[char] for char in list(\"_\".join(tokens.tolist()))]\n",
    "        for tokens in batch\n",
    "    ]"
   ]
  },
  {
   "cell_type": "markdown",
   "metadata": {},
   "source": [
    "***Padding & packing***"
   ]
  },
  {
   "cell_type": "markdown",
   "metadata": {},
   "source": [
    "Обучать сеть хотим по батчам. Это и эффективно по времени, и уменьшает смещение стохастического градиента. Здесь следующая трудность: батч состоит из последовательностей кодов символов, но эти последовательности будут разной длины. Решаем проблему забиванием нулями с конца всех последовательностей так, чтобы их длина совпадала с максимальной в батче. \n",
    "\n",
    "Проблема переменных длин в батче аукнется и при генерации батчей даталоадером. В этом случае нужна функция collate."
   ]
  },
  {
   "cell_type": "code",
   "execution_count": null,
   "metadata": {
    "id": "hmECTUKXCf-f"
   },
   "outputs": [],
   "source": [
    "def preproc_vect_seq_batch(batch2idx):\n",
    "    # finding max seq len\n",
    "    seq_lens = torch.LongTensor(list(map(len, batch2idx)))\n",
    "    seq_tensor = Variable(torch.zeros((len(batch2idx), seq_lens.max()))).long()\n",
    "    \n",
    "    # filling seqs, padding with zeros\n",
    "    for idx, (seq, seq_len) in enumerate(zip(batch2idx, seq_lens)):\n",
    "        seq_tensor[idx, :seq_len] = torch.LongTensor(seq)\n",
    "        \n",
    "    # pushing seqs with max zeros amount to the end\n",
    "    seq_lens, perm_idx = seq_lens.sort(0, descending=True)\n",
    "    seq_tensor = seq_tensor[perm_idx]\n",
    "    \n",
    "    return seq_tensor, seq_lens, perm_idx\n",
    "\n",
    "def collate_pad(batch):\n",
    "    batch2idx = [obj[0] for obj in batch]\n",
    "    labels = [obj[1] for obj in batch]\n",
    "    seq_tensor, seq_lens, perm_idx = preproc_vect_seq_batch(batch2idx)\n",
    "    \n",
    "    return seq_tensor.to(DEVICE), seq_lens.to(DEVICE), torch.tensor(labels)[perm_idx].to(DEVICE)"
   ]
  },
  {
   "cell_type": "markdown",
   "metadata": {},
   "source": [
    "***Model***"
   ]
  },
  {
   "cell_type": "markdown",
   "metadata": {},
   "source": [
    "Непосредственно энкодер."
   ]
  },
  {
   "cell_type": "code",
   "execution_count": null,
   "metadata": {
    "id": "Zjw0KHs_Cf-f"
   },
   "outputs": [],
   "source": [
    "# padding idea from https://gist.github.com/HarshTrivedi/f4e7293e941b17d19058f6fb90ab0fec\n",
    "\n",
    "class Encoder(nn.Module):\n",
    "    # N - batch size; L - seq len; H - hidden size; E - embed_size\n",
    "    def __init__(self, vocab_size, embed_size, hidden_size):\n",
    "        super(Encoder, self).__init__()\n",
    "        self.vocab_size = vocab_size\n",
    "        self.embed_size = embed_size\n",
    "        self.hidden_size = hidden_size\n",
    "        \n",
    "        self.embedding = nn.Embedding(vocab_size, embed_size) # num_embeddings, embedding_dim\n",
    "        self.rnn = nn.LSTM(embed_size, hidden_size, batch_first=True)\n",
    "        \n",
    "    def forward(self, batch):\n",
    "        seq_tensor, seq_lens, _ = batch # (N, L); (N, )\n",
    "        embeds = self.embedding(seq_tensor) # (N, L, E)\n",
    "        \n",
    "        packed_input = pack_padded_sequence( # (batch_sum_seq_len, E)\n",
    "            embeds, seq_lens.cpu(), batch_first=True\n",
    "        ) \n",
    "        \n",
    "        _, (hidden, cell) = self.rnn(packed_input) # cell for LSTM\n",
    "        \n",
    "        return hidden[-1] # (N, H)"
   ]
  },
  {
   "cell_type": "markdown",
   "metadata": {},
   "source": [
    "Аналоги построчного усреднения F1 для предсказаний сети."
   ]
  },
  {
   "cell_type": "code",
   "execution_count": null,
   "metadata": {
    "id": "kpQ6eVzFCf-f"
   },
   "outputs": [],
   "source": [
    "def f1_score_labels_1d(y_true, y_pred):\n",
    "    intersection = set(y_true) & set(y_pred)\n",
    "    return 2 * len(intersection) / (len(y_true) + len(y_pred))\n",
    "\n",
    "def f1_score_labels(y_true, y_pred):\n",
    "    out = []\n",
    "    for i, label in enumerate(y_true):\n",
    "        true_idxs = np.where(y_true == label)[0]\n",
    "        pred_idxs = y_pred[i]\n",
    "        out.append(f1_score_labels_1d(true_idxs, pred_idxs))\n",
    "    return np.mean(np.array(out))"
   ]
  },
  {
   "cell_type": "markdown",
   "metadata": {},
   "source": [
    "Конечное предсказание кластеров - 1NN и перебор порога, а также валидация и обучение. Оцениваемся усредненным построчным F1 на отложенной выборке."
   ]
  },
  {
   "cell_type": "code",
   "execution_count": null,
   "metadata": {
    "id": "RylucSmGCf-g"
   },
   "outputs": [],
   "source": [
    "def predict_1neighbor(X, dists):\n",
    "    # rows of X - coords\n",
    "    # dists - pairwise distances\n",
    "    # returns idx of closest neighbor for every object\n",
    "    dists[np.arange(len(dists)), np.arange(len(dists))] = np.max(dists)\n",
    "    \n",
    "    pred = np.argmin(dists, axis=0)\n",
    "    return np.vstack((np.arange(len(X)), pred)).T\n",
    "\n",
    "def predict_neighbors_adaptive(X, dists, thresh):\n",
    "    # rows of X - coords\n",
    "    # returns idxs of neighbors wrt to threshold for every object\n",
    "    dists[np.arange(len(dists)), np.arange(len(dists))] = np.max(dists)\n",
    "\n",
    "    output = [[i] for i in range(len(X))]\n",
    "    wheres = np.where(dists < thresh)\n",
    "    for i in range(len(wheres[0])):\n",
    "        idx, value = wheres[0][i], wheres[1][i]\n",
    "        if len(output[idx]) < 52: # no more than 51 neighbors in real data\n",
    "            output[idx].append(value)\n",
    "    \n",
    "    return output"
   ]
  },
  {
   "cell_type": "code",
   "execution_count": null,
   "metadata": {
    "id": "_ACbe9SoCf-g"
   },
   "outputs": [],
   "source": [
    "def validate_model(model, test_loader, X_val_len, y_val, output_label=\"VAL\"):\n",
    "        \n",
    "    pred_val = torch.zeros((X_val_len, HIDDEN_SIZE))\n",
    "    with torch.no_grad():\n",
    "        for data in test_loader:\n",
    "            _, _, seq_idxs = data\n",
    "            hidden = model(data)\n",
    "            for i, pred_val_i in enumerate(seq_idxs):\n",
    "                pred_val[pred_val_i] = hidden[i]\n",
    "    \n",
    "    X = pred_val.detach().numpy()\n",
    "    start = time.time()\n",
    "    dists = distance_matrix(X, X)\n",
    "    y_pred_1nn = predict_1neighbor(X, dists)\n",
    "    f1_1nn = f1_score_labels(y_val, y_pred_1nn)\n",
    "\n",
    "    f1_adapt_list = []\n",
    "    for thresh in THRESH:\n",
    "        y_pred_adapt = predict_neighbors_adaptive(X, dists, thresh)\n",
    "        f1_adapt = f1_score_labels(y_val, y_pred_adapt)\n",
    "        f1_adapt_list.append(f1_adapt)\n",
    "        \n",
    "    print(f\"{output_label} | 1NN F1: {round(f1_1nn, 4)}\")\n",
    "    print(f\"{output_label} | ADAPT\", end=\"\")\n",
    "    for i in range(len(THRESH)):\n",
    "        print(f\"|TH: {THRESH[i]} F1: {round(f1_adapt_list[i], 4)}\", end=\"\")\n",
    "    print('')\n",
    "    \n",
    "    return f1_1nn, f1_adapt_list"
   ]
  },
  {
   "cell_type": "code",
   "execution_count": null,
   "metadata": {
    "id": "33Tju2YTCf-h"
   },
   "outputs": [],
   "source": [
    "def train_epoch(model, optimizer, loss_func, train_loader, test_loader, \n",
    "                X_train_len, X_val_len, y_train, y_val, flush_rate=100):\n",
    "    val_output = []\n",
    "    running_loss = 0\n",
    "    batch_losses = []\n",
    "    avg_losses = []\n",
    "    epoch_start = time.time()\n",
    "    for i, data in enumerate(train_loader):\n",
    "        # data - (seq, seq_len, label)\n",
    "        optimizer.zero_grad()\n",
    "        embeddings = model(data)\n",
    "        labels = data[-1]\n",
    "        loss = loss_func(embeddings, labels)\n",
    "        loss.backward()\n",
    "        optimizer.step()\n",
    "        \n",
    "        batch_losses.append(loss.item())\n",
    "        running_loss += loss.item() * data[0].shape[0]\n",
    "        \n",
    "        if (i + 1) % flush_rate == 0:\n",
    "            avg_loss = np.array(batch_losses).mean()\n",
    "            avg_losses.append(avg_loss)\n",
    "            print(f\"ITER {i + 1} | AVERAGE LOSS {round(avg_loss, 3)} | RUNNING LOSS {round(running_loss, 3)}\")\n",
    "            val_output.append(validate_model(model, test_loader, X_val_len, y_val, \"TEST\"))\n",
    "            batch_losses = []\n",
    "    running_loss /= len(train_loader)\n",
    "    \n",
    "    print(f\"EPOCH OVER ({round(time.time() - epoch_start, 2)} sec) | AVG LOSS {round(np.array(batch_losses).mean(), 3)} | RAN LOSS {round(running_loss, 3)}\")\n",
    "    validate_model(model, test_loader, X_val_len, y_val, \"TEST\")\n",
    "    \n",
    "    return val_output, avg_losses, running_loss"
   ]
  },
  {
   "cell_type": "markdown",
   "metadata": {},
   "source": [
    "***Training***"
   ]
  },
  {
   "cell_type": "markdown",
   "metadata": {},
   "source": [
    "Строим корпус, переводим в коды, разбиваем на обучение и контроль."
   ]
  },
  {
   "cell_type": "code",
   "execution_count": null,
   "metadata": {
    "id": "KaaZvl52Cf-h"
   },
   "outputs": [],
   "source": [
    "corpus = Corpus({\"PAD\": 0, \"_\": 1})\n",
    "corpus.fit(build_corpus_per_char([df['text']]))\n",
    "\n",
    "X = transform_chars(df['text'].values, corpus)\n",
    "y = df['label'].values\n",
    "\n",
    "X_train, X_val, y_train, y_val = train_test_split(\n",
    "    X,\n",
    "    y,\n",
    "    test_size=0.2,\n",
    "    random_state=1337\n",
    ")\n",
    "\n",
    "Xy_train = list(zip(X_train, y_train))\n",
    "Xidx_val = list(zip(X_val, [i for i in range(len(X_val))]))"
   ]
  },
  {
   "cell_type": "markdown",
   "metadata": {},
   "source": [
    "Используем полезные функции из библиотеки pytorch-metric-learning, это\n",
    "- сэмплер - строит батч таким образом, что в нем обязательно есть хотя бы два заголовка одного товара (не должен встретиться объект, для которого не будет anchor-positive)\n",
    "- волшебный triplet loss, который самостоятельно перебирает все подходящие тройки в батче\n",
    "\n",
    "Размерность эмбеддингов (они же скрытые состояния у LSTM) выберем заведомо небольшой, чтобы избежать проклятия размерности.\n",
    "Оптимизируем адамом, без регуляризации. Тюнинг гиперпараметров в данном ноутбуке удалим, и так много получается."
   ]
  },
  {
   "cell_type": "code",
   "execution_count": null,
   "metadata": {
    "id": "D9mlfRKDCf-h"
   },
   "outputs": [],
   "source": [
    "DEVICE = torch.device(\"cuda\" if torch.cuda.is_available() else \"cpu\")\n",
    "EMBED_SIZE = 64\n",
    "HIDDEN_SIZE = 64\n",
    "BATCH_SIZE = 32\n",
    "LEARNING_RATE = 0.0001\n",
    "WEIGHT_DECAY = 0\n",
    "THRESH = [0.01, 0.05, 0.1, 0.15, 0.2]\n",
    "\n",
    "sampler = samplers.MPerClassSampler(labels=y_train, m=2, batch_size=BATCH_SIZE, length_before_new_iter=100000)\n",
    "# reducer = reducers.MeanReducer()\n",
    "train_loader = DataLoader(dataset=Xy_train, sampler=sampler, batch_size=BATCH_SIZE, collate_fn=collate_pad)\n",
    "test_loader = DataLoader(dataset=Xidx_val, batch_size=BATCH_SIZE, collate_fn=collate_pad)\n",
    "model = Encoder(\n",
    "    vocab_size=corpus.n_words,\n",
    "    embed_size=EMBED_SIZE,\n",
    "    hidden_size=HIDDEN_SIZE\n",
    ").to(DEVICE)\n",
    "optimizer = torch.optim.Adam(model.parameters(), lr=LEARNING_RATE, weight_decay=WEIGHT_DECAY)\n",
    "loss_func = losses.TripletMarginLoss(margin=0.1,\n",
    "                        swap=False,\n",
    "                        smooth_loss=False,\n",
    "                        triplets_per_anchor=\"all\")\n",
    "#loss_func = losses.ContrastiveLoss(pos_margin=0, neg_margin=, reducer=reducer) # eucl dist by default"
   ]
  },
  {
   "cell_type": "code",
   "execution_count": null,
   "metadata": {
    "colab": {
     "base_uri": "https://localhost:8080/"
    },
    "id": "8O3Gv-ZnCf-i",
    "outputId": "9ae9078e-2beb-472d-ff2a-66f7d195bd8d"
   },
   "outputs": [
    {
     "name": "stdout",
     "output_type": "stream",
     "text": [
      "EPOCH 0 START\n",
      "ITER 1000 | AVERAGE LOSS 0.123 | RUNNING LOSS 3949.582\n",
      "TEST | 1NN F1: 0.5541\n",
      "TEST | ADAPT|TH: 0.01 F1: 0.189|TH: 0.05 F1: 0.0994|TH: 0.1 F1: 0.0805|TH: 0.15 F1: 0.0735|TH: 0.2 F1: 0.0696\n",
      "ITER 2000 | AVERAGE LOSS 0.11 | RUNNING LOSS 7477.237\n",
      "TEST | 1NN F1: 0.555\n",
      "TEST | ADAPT|TH: 0.01 F1: 0.5579|TH: 0.05 F1: 0.1451|TH: 0.1 F1: 0.0884|TH: 0.15 F1: 0.0749|TH: 0.2 F1: 0.0681\n",
      "ITER 3000 | AVERAGE LOSS 0.105 | RUNNING LOSS 10851.002\n",
      "TEST | 1NN F1: 0.5552\n",
      "TEST | ADAPT|TH: 0.01 F1: 0.6134|TH: 0.05 F1: 0.1673|TH: 0.1 F1: 0.096|TH: 0.15 F1: 0.0775|TH: 0.2 F1: 0.0703\n",
      "EPOCH OVER (134.73 sec) | AVG LOSS 0.102 | RAN LOSS 3.603\n",
      "TEST | 1NN F1: 0.5568\n",
      "TEST | ADAPT|TH: 0.01 F1: 0.6975|TH: 0.05 F1: 0.2098|TH: 0.1 F1: 0.1035|TH: 0.15 F1: 0.0792|TH: 0.2 F1: 0.0702\n",
      "EPOCH 1 START\n",
      "ITER 1000 | AVERAGE LOSS 0.103 | RUNNING LOSS 3306.878\n",
      "TEST | 1NN F1: 0.5569\n",
      "TEST | ADAPT|TH: 0.01 F1: 0.7493|TH: 0.05 F1: 0.2878|TH: 0.1 F1: 0.128|TH: 0.15 F1: 0.0912|TH: 0.2 F1: 0.0749\n",
      "ITER 2000 | AVERAGE LOSS 0.102 | RUNNING LOSS 6562.135\n",
      "TEST | 1NN F1: 0.5569\n",
      "TEST | ADAPT|TH: 0.01 F1: 0.7877|TH: 0.05 F1: 0.6045|TH: 0.1 F1: 0.2916|TH: 0.15 F1: 0.154|TH: 0.2 F1: 0.0995\n",
      "ITER 3000 | AVERAGE LOSS 0.097 | RUNNING LOSS 9679.346\n",
      "TEST | 1NN F1: 0.558\n",
      "TEST | ADAPT|TH: 0.01 F1: 0.7894|TH: 0.05 F1: 0.7018|TH: 0.1 F1: 0.4041|TH: 0.15 F1: 0.2055|TH: 0.2 F1: 0.1209\n",
      "EPOCH OVER (127.49 sec) | AVG LOSS 0.093 | RAN LOSS 3.217\n",
      "TEST | 1NN F1: 0.5583\n",
      "TEST | ADAPT|TH: 0.01 F1: 0.7893|TH: 0.05 F1: 0.7031|TH: 0.1 F1: 0.4145|TH: 0.15 F1: 0.2216|TH: 0.2 F1: 0.1315\n",
      "EPOCH 2 START\n",
      "ITER 1000 | AVERAGE LOSS 0.095 | RUNNING LOSS 3055.666\n",
      "TEST | 1NN F1: 0.5604\n",
      "TEST | ADAPT|TH: 0.01 F1: 0.79|TH: 0.05 F1: 0.7342|TH: 0.1 F1: 0.47|TH: 0.15 F1: 0.2488|TH: 0.2 F1: 0.1437\n",
      "ITER 2000 | AVERAGE LOSS 0.096 | RUNNING LOSS 6123.709\n",
      "TEST | 1NN F1: 0.5603\n",
      "TEST | ADAPT|TH: 0.01 F1: 0.7898|TH: 0.05 F1: 0.7735|TH: 0.1 F1: 0.5897|TH: 0.15 F1: 0.3278|TH: 0.2 F1: 0.1798\n",
      "ITER 3000 | AVERAGE LOSS 0.096 | RUNNING LOSS 9190.818\n",
      "TEST | 1NN F1: 0.5613\n",
      "TEST | ADAPT|TH: 0.01 F1: 0.7901|TH: 0.05 F1: 0.776|TH: 0.1 F1: 0.6256|TH: 0.15 F1: 0.3793|TH: 0.2 F1: 0.2137\n",
      "EPOCH OVER (125.92 sec) | AVG LOSS 0.096 | RAN LOSS 3.064\n",
      "TEST | 1NN F1: 0.5625\n",
      "TEST | ADAPT|TH: 0.01 F1: 0.7899|TH: 0.05 F1: 0.7723|TH: 0.1 F1: 0.6067|TH: 0.15 F1: 0.3506|TH: 0.2 F1: 0.1981\n",
      "EPOCH 3 START\n",
      "ITER 1000 | AVERAGE LOSS 0.095 | RUNNING LOSS 3054.366\n",
      "TEST | 1NN F1: 0.5664\n",
      "TEST | ADAPT|TH: 0.01 F1: 0.7906|TH: 0.05 F1: 0.7862|TH: 0.1 F1: 0.7083|TH: 0.15 F1: 0.5201|TH: 0.2 F1: 0.3303\n",
      "ITER 2000 | AVERAGE LOSS 0.095 | RUNNING LOSS 6105.369\n",
      "TEST | 1NN F1: 0.566\n",
      "TEST | ADAPT|TH: 0.01 F1: 0.7901|TH: 0.05 F1: 0.7895|TH: 0.1 F1: 0.7457|TH: 0.15 F1: 0.6065|TH: 0.2 F1: 0.4251\n",
      "ITER 3000 | AVERAGE LOSS 0.093 | RUNNING LOSS 9095.448\n",
      "TEST | 1NN F1: 0.57\n",
      "TEST | ADAPT|TH: 0.01 F1: 0.7907|TH: 0.05 F1: 0.7914|TH: 0.1 F1: 0.7583|TH: 0.15 F1: 0.6472|TH: 0.2 F1: 0.4747\n",
      "EPOCH OVER (126.66 sec) | AVG LOSS 0.093 | RAN LOSS 3.029\n",
      "TEST | 1NN F1: 0.5688\n",
      "TEST | ADAPT|TH: 0.01 F1: 0.7903|TH: 0.05 F1: 0.7914|TH: 0.1 F1: 0.7615|TH: 0.15 F1: 0.6538|TH: 0.2 F1: 0.4825\n",
      "EPOCH 4 START\n",
      "ITER 1000 | AVERAGE LOSS 0.094 | RUNNING LOSS 3011.6\n",
      "TEST | 1NN F1: 0.5711\n",
      "TEST | ADAPT|TH: 0.01 F1: 0.791|TH: 0.05 F1: 0.792|TH: 0.1 F1: 0.7622|TH: 0.15 F1: 0.6488|TH: 0.2 F1: 0.4827\n",
      "ITER 2000 | AVERAGE LOSS 0.094 | RUNNING LOSS 6004.255\n",
      "TEST | 1NN F1: 0.5713\n",
      "TEST | ADAPT|TH: 0.01 F1: 0.7907|TH: 0.05 F1: 0.7931|TH: 0.1 F1: 0.7738|TH: 0.15 F1: 0.6807|TH: 0.2 F1: 0.5258\n",
      "ITER 3000 | AVERAGE LOSS 0.095 | RUNNING LOSS 9038.179\n",
      "TEST | 1NN F1: 0.5719\n",
      "TEST | ADAPT|TH: 0.01 F1: 0.7901|TH: 0.05 F1: 0.7922|TH: 0.1 F1: 0.7871|TH: 0.15 F1: 0.7523|TH: 0.2 F1: 0.649\n",
      "EPOCH OVER (125.89 sec) | AVG LOSS 0.095 | RAN LOSS 3.014\n",
      "TEST | 1NN F1: 0.5719\n",
      "TEST | ADAPT|TH: 0.01 F1: 0.7899|TH: 0.05 F1: 0.7919|TH: 0.1 F1: 0.786|TH: 0.15 F1: 0.7504|TH: 0.2 F1: 0.6631\n",
      "EPOCH 5 START\n",
      "ITER 1000 | AVERAGE LOSS 0.094 | RUNNING LOSS 2992.282\n",
      "TEST | 1NN F1: 0.5711\n",
      "TEST | ADAPT|TH: 0.01 F1: 0.7899|TH: 0.05 F1: 0.7913|TH: 0.1 F1: 0.7893|TH: 0.15 F1: 0.7629|TH: 0.2 F1: 0.6743\n",
      "ITER 2000 | AVERAGE LOSS 0.095 | RUNNING LOSS 6030.292\n",
      "TEST | 1NN F1: 0.5709\n",
      "TEST | ADAPT|TH: 0.01 F1: 0.7899|TH: 0.05 F1: 0.7912|TH: 0.1 F1: 0.787|TH: 0.15 F1: 0.7529|TH: 0.2 F1: 0.6672\n",
      "ITER 3000 | AVERAGE LOSS 0.093 | RUNNING LOSS 9017.971\n",
      "TEST | 1NN F1: 0.5725\n",
      "TEST | ADAPT|TH: 0.01 F1: 0.7901|TH: 0.05 F1: 0.7919|TH: 0.1 F1: 0.788|TH: 0.15 F1: 0.7557|TH: 0.2 F1: 0.671\n",
      "EPOCH OVER (125.08 sec) | AVG LOSS 0.094 | RAN LOSS 3.007\n",
      "TEST | 1NN F1: 0.5727\n",
      "TEST | ADAPT|TH: 0.01 F1: 0.7899|TH: 0.05 F1: 0.7916|TH: 0.1 F1: 0.7892|TH: 0.15 F1: 0.756|TH: 0.2 F1: 0.6668\n",
      "EPOCH 6 START\n",
      "ITER 1000 | AVERAGE LOSS 0.095 | RUNNING LOSS 3027.169\n",
      "TEST | 1NN F1: 0.5734\n",
      "TEST | ADAPT|TH: 0.01 F1: 0.7899|TH: 0.05 F1: 0.7913|TH: 0.1 F1: 0.789|TH: 0.15 F1: 0.7601|TH: 0.2 F1: 0.6692\n",
      "ITER 2000 | AVERAGE LOSS 0.094 | RUNNING LOSS 6026.269\n",
      "TEST | 1NN F1: 0.5712\n",
      "TEST | ADAPT|TH: 0.01 F1: 0.7899|TH: 0.05 F1: 0.7925|TH: 0.1 F1: 0.7861|TH: 0.15 F1: 0.7387|TH: 0.2 F1: 0.6266\n",
      "ITER 3000 | AVERAGE LOSS 0.094 | RUNNING LOSS 9045.329\n",
      "TEST | 1NN F1: 0.5723\n",
      "TEST | ADAPT|TH: 0.01 F1: 0.7901|TH: 0.05 F1: 0.792|TH: 0.1 F1: 0.79|TH: 0.15 F1: 0.7618|TH: 0.2 F1: 0.6761\n",
      "EPOCH OVER (125.66 sec) | AVG LOSS 0.093 | RAN LOSS 3.013\n",
      "TEST | 1NN F1: 0.5717\n",
      "TEST | ADAPT|TH: 0.01 F1: 0.7899|TH: 0.05 F1: 0.7916|TH: 0.1 F1: 0.7898|TH: 0.15 F1: 0.7633|TH: 0.2 F1: 0.6807\n",
      "EPOCH 7 START\n",
      "ITER 1000 | AVERAGE LOSS 0.095 | RUNNING LOSS 3027.15\n",
      "TEST | 1NN F1: 0.5718\n",
      "TEST | ADAPT|TH: 0.01 F1: 0.7899|TH: 0.05 F1: 0.7913|TH: 0.1 F1: 0.7897|TH: 0.15 F1: 0.7634|TH: 0.2 F1: 0.6842\n",
      "ITER 2000 | AVERAGE LOSS 0.095 | RUNNING LOSS 6054.08\n",
      "TEST | 1NN F1: 0.5727\n",
      "TEST | ADAPT|TH: 0.01 F1: 0.7899|TH: 0.05 F1: 0.7917|TH: 0.1 F1: 0.791|TH: 0.15 F1: 0.7602|TH: 0.2 F1: 0.668\n",
      "ITER 3000 | AVERAGE LOSS 0.095 | RUNNING LOSS 9094.436\n",
      "TEST | 1NN F1: 0.573\n",
      "TEST | ADAPT|TH: 0.01 F1: 0.7899|TH: 0.05 F1: 0.7922|TH: 0.1 F1: 0.7886|TH: 0.15 F1: 0.7576|TH: 0.2 F1: 0.6719\n",
      "EPOCH OVER (125.29 sec) | AVG LOSS 0.094 | RAN LOSS 3.031\n",
      "TEST | 1NN F1: 0.5731\n",
      "TEST | ADAPT|TH: 0.01 F1: 0.7899|TH: 0.05 F1: 0.7921|TH: 0.1 F1: 0.7897|TH: 0.15 F1: 0.7559|TH: 0.2 F1: 0.6588\n",
      "EPOCH 8 START\n",
      "ITER 1000 | AVERAGE LOSS 0.096 | RUNNING LOSS 3067.995\n",
      "TEST | 1NN F1: 0.5717\n",
      "TEST | ADAPT|TH: 0.01 F1: 0.7899|TH: 0.05 F1: 0.7916|TH: 0.1 F1: 0.7887|TH: 0.15 F1: 0.7585|TH: 0.2 F1: 0.667\n",
      "ITER 2000 | AVERAGE LOSS 0.095 | RUNNING LOSS 6122.815\n",
      "TEST | 1NN F1: 0.5718\n",
      "TEST | ADAPT|TH: 0.01 F1: 0.7899|TH: 0.05 F1: 0.7913|TH: 0.1 F1: 0.7884|TH: 0.15 F1: 0.762|TH: 0.2 F1: 0.6729\n",
      "ITER 3000 | AVERAGE LOSS 0.095 | RUNNING LOSS 9169.93\n",
      "TEST | 1NN F1: 0.5719\n",
      "TEST | ADAPT|TH: 0.01 F1: 0.7899|TH: 0.05 F1: 0.7913|TH: 0.1 F1: 0.7902|TH: 0.15 F1: 0.7569|TH: 0.2 F1: 0.6655\n",
      "EPOCH OVER (125.45 sec) | AVG LOSS 0.092 | RAN LOSS 3.052\n",
      "TEST | 1NN F1: 0.573\n",
      "TEST | ADAPT|TH: 0.01 F1: 0.7899|TH: 0.05 F1: 0.7917|TH: 0.1 F1: 0.7892|TH: 0.15 F1: 0.7562|TH: 0.2 F1: 0.6642\n",
      "EPOCH 9 START\n",
      "ITER 1000 | AVERAGE LOSS 0.095 | RUNNING LOSS 3053.048\n",
      "TEST | 1NN F1: 0.5734\n",
      "TEST | ADAPT|TH: 0.01 F1: 0.7899|TH: 0.05 F1: 0.7915|TH: 0.1 F1: 0.7912|TH: 0.15 F1: 0.7743|TH: 0.2 F1: 0.7118\n",
      "ITER 2000 | AVERAGE LOSS 0.095 | RUNNING LOSS 6096.118\n",
      "TEST | 1NN F1: 0.5736\n",
      "TEST | ADAPT|TH: 0.01 F1: 0.7899|TH: 0.05 F1: 0.7916|TH: 0.1 F1: 0.7913|TH: 0.15 F1: 0.7726|TH: 0.2 F1: 0.7058\n",
      "ITER 3000 | AVERAGE LOSS 0.093 | RUNNING LOSS 9066.435\n",
      "TEST | 1NN F1: 0.5761\n",
      "TEST | ADAPT|TH: 0.01 F1: 0.7899|TH: 0.05 F1: 0.7919|TH: 0.1 F1: 0.7932|TH: 0.15 F1: 0.7863|TH: 0.2 F1: 0.7499\n",
      "EPOCH OVER (125.18 sec) | AVG LOSS 0.093 | RAN LOSS 3.021\n",
      "TEST | 1NN F1: 0.5767\n",
      "TEST | ADAPT|TH: 0.01 F1: 0.7899|TH: 0.05 F1: 0.7918|TH: 0.1 F1: 0.7928|TH: 0.15 F1: 0.7854|TH: 0.2 F1: 0.7427\n"
     ]
    }
   ],
   "source": [
    "NUM_EPOCHS = 10\n",
    "\n",
    "output = {}\n",
    "for epoch in range(NUM_EPOCHS):\n",
    "    print(f\"EPOCH {epoch} START\")\n",
    "    out = train_epoch(\n",
    "        model=model,\n",
    "        optimizer=optimizer,\n",
    "        loss_func=loss_func,\n",
    "        train_loader=train_loader,\n",
    "        test_loader=test_loader,\n",
    "        X_train_len=len(X_train),\n",
    "        X_val_len=len(X_val),\n",
    "        y_train=y_train,\n",
    "        y_val=y_val ,\n",
    "        flush_rate=1000\n",
    "    )   \n",
    "    output[epoch] = out"
   ]
  },
  {
   "cell_type": "markdown",
   "metadata": {},
   "source": [
    "**Качество 1NN на контроле ~0.58** после 10 эпох (близко к 1NN на tf-idf).\n",
    "\n",
    "**Качество adaptive neighbors ~0.79**."
   ]
  },
  {
   "cell_type": "markdown",
   "metadata": {},
   "source": [
    "Смотрим динамику лосса и качества F1 с течением эпох."
   ]
  },
  {
   "cell_type": "code",
   "execution_count": null,
   "metadata": {
    "colab": {
     "base_uri": "https://localhost:8080/",
     "height": 296
    },
    "id": "2xpdR4idl23j",
    "outputId": "b1ad63d0-d475-4adb-9714-8ec1342a26e0"
   },
   "outputs": [
    {
     "data": {
      "text/plain": [
       "Text(0, 0.5, 'loss')"
      ]
     },
     "execution_count": 105,
     "metadata": {},
     "output_type": "execute_result"
    },
    {
     "data": {
      "image/png": "[encoded data removed]",
      "text/plain": [
       "<Figure size 432x288 with 1 Axes>"
      ]
     },
     "metadata": {
      "needs_background": "light"
     },
     "output_type": "display_data"
    }
   ],
   "source": [
    "sns.lineplot(x=list(output.keys()), y=[output[epoch][-1] for epoch in output])\n",
    "plt.xlabel(\"epoch\")\n",
    "plt.ylabel(\"loss\")"
   ]
  },
  {
   "cell_type": "code",
   "execution_count": null,
   "metadata": {
    "colab": {
     "base_uri": "https://localhost:8080/",
     "height": 296
    },
    "id": "gcHC8c0LnOKk",
    "outputId": "3b7e12b0-f7c5-4425-e3d0-6aa6a27125c8"
   },
   "outputs": [
    {
     "data": {
      "text/plain": [
       "Text(0, 0.5, 'F1')"
      ]
     },
     "execution_count": 106,
     "metadata": {},
     "output_type": "execute_result"
    },
    {
     "data": {
      "image/png": "[encoded data removed]",
      "text/plain": [
       "<Figure size 432x288 with 1 Axes>"
      ]
     },
     "metadata": {
      "needs_background": "light"
     },
     "output_type": "display_data"
    }
   ],
   "source": [
    "sns.lineplot(x=list(output.keys()), y=[output[epoch][0][1][-1][1] for epoch in output])\n",
    "plt.xlabel(\"epoch\")\n",
    "plt.ylabel(\"F1\")"
   ]
  },
  {
   "cell_type": "markdown",
   "metadata": {},
   "source": [
    "### ML решение"
   ]
  },
  {
   "cell_type": "markdown",
   "metadata": {},
   "source": [
    "Еще во время препроцессинга текстов заголовков и построения корпуса автор обратил внимание на очень хорошее пересечение токенов заголовков одного товара. Возникла идея пропустить этап построения эмбеддингов, а перейти сразу к подсчету расстояния. Причем в простейшем случае использовать примитивное пересечение множеств токенов."
   ]
  },
  {
   "cell_type": "markdown",
   "metadata": {},
   "source": [
    "Строим множества токенов, считаем попарные пересечения (используем разреженные матрицы), варьируем порог и смотрим на качество."
   ]
  },
  {
   "cell_type": "code",
   "execution_count": 42,
   "metadata": {
    "id": "7Zb6ndc3N3yU"
   },
   "outputs": [],
   "source": [
    "setted_series = df[\"text\"].apply(lambda x: set(x))\n",
    "pairwise_inters = [setted_series.apply(lambda x: len(x & row)).to_numpy() for row in setted_series]\n",
    "\n",
    "X = np.array(pairwise_inters)\n",
    "sparse_X = csr_matrix(X)"
   ]
  },
  {
   "cell_type": "code",
   "execution_count": 44,
   "metadata": {
    "colab": {
     "base_uri": "https://localhost:8080/"
    },
    "id": "078yE0adN3yU",
    "outputId": "691c764a-41f9-459a-9300-f3d6c65c1038"
   },
   "outputs": [
    {
     "name": "stderr",
     "output_type": "stream",
     "text": [
      "100%|██████████| 529700/529700 [02:49<00:00, 3133.52it/s]\n"
     ]
    },
    {
     "name": "stdout",
     "output_type": "stream",
     "text": [
      "THRESH: 2, F1: 0.47134041740652705\n"
     ]
    },
    {
     "name": "stderr",
     "output_type": "stream",
     "text": [
      "100%|██████████| 215777/215777 [01:06<00:00, 3227.24it/s]\n"
     ]
    },
    {
     "name": "stdout",
     "output_type": "stream",
     "text": [
      "THRESH: 3, F1: 0.5606379513777408\n"
     ]
    },
    {
     "name": "stderr",
     "output_type": "stream",
     "text": [
      "100%|██████████| 114704/114704 [00:34<00:00, 3347.95it/s]\n"
     ]
    },
    {
     "name": "stdout",
     "output_type": "stream",
     "text": [
      "THRESH: 4, F1: 0.5390206265571864\n"
     ]
    },
    {
     "name": "stderr",
     "output_type": "stream",
     "text": [
      "100%|██████████| 69504/69504 [00:20<00:00, 3428.98it/s]\n"
     ]
    },
    {
     "name": "stdout",
     "output_type": "stream",
     "text": [
      "THRESH: 5, F1: 0.4622199113068653\n"
     ]
    }
   ],
   "source": [
    "for thresh in range(2, 6):\n",
    "    rows, cols = (sparse_X > thresh).nonzero()\n",
    "    df[\"inter_pred\"] = \"\"\n",
    "    for i, j in tqdm(list(zip(rows, cols))):\n",
    "        df[\"inter_pred\"][i] += \" \" + df[\"posting_id\"][j]\n",
    "    df[\"inter_pred\"].apply(lambda string: string[1:])\n",
    "    print(f\"THRESH: {thresh}, F1: {f1_score(df['matches'], df['inter_pred']).mean()}\")"
   ]
  },
  {
   "cell_type": "markdown",
   "metadata": {},
   "source": [
    "**Качество 0.56**."
   ]
  },
  {
   "cell_type": "markdown",
   "metadata": {},
   "source": [
    "***Classification problem***"
   ]
  },
  {
   "cell_type": "markdown",
   "metadata": {},
   "source": [
    "Хотим использовать машинное обучение вместо ручного подбора порога. Переформулируем исходную задачу. Пусть объект - не заголовок, как раньше, а пара заголовков. Целевая переменная - отвечают ли заголовки в паре одному товару. Имеем бинарный таргет и бинарную задачу классификации."
   ]
  },
  {
   "cell_type": "markdown",
   "metadata": {},
   "source": [
    "Решейпим датафрейм в обучающую выборку под задачу классификации. 1 классом считаем заголовки одного товара, 0 классом - разных. Очевидно, как получить все объекты 1 класса по исходной выборке. Для получения объектов 0 класса можем использовать случайные пары заголовков разных товаров. \n",
    "\n",
    "По исходной выборке строим подвыборку объектов 1 класса. "
   ]
  },
  {
   "cell_type": "code",
   "execution_count": 46,
   "metadata": {},
   "outputs": [
    {
     "name": "stdout",
     "output_type": "stream",
     "text": [
      "Всего пар 1 класса 55654\n"
     ]
    }
   ],
   "source": [
    "aggregated = df.groupby(\"label\")[\"text\"].agg(lambda x: list(combinations(x, 2))).explode()\n",
    "\n",
    "pair_df = pd.DataFrame(\n",
    "    aggregated.to_list(),\n",
    "    columns=[\"title1\", \"title2\"]\n",
    ")\n",
    "\n",
    "pair_df[\"target\"] = aggregated.index\n",
    "pair_df[\"class\"] = 1\n",
    "\n",
    "positive_class_size = len(aggregated)\n",
    "print(f\"Всего пар 1 класса {positive_class_size}\")"
   ]
  },
  {
   "cell_type": "markdown",
   "metadata": {},
   "source": [
    "Случайность для построения объектов 0 класса будем моделировать сдвигом. В подвыборке объектов 1 класса получены два столбца, отвечающие заголовкам. Сдвинем один столбец вверх, а второй вниз так, что на пересечении строк окажутся заголовки разных товаров. \n",
    "\n",
    "Берем сдвиг в 2000, проверяем что все товары действительно разные (таргет не совпадает)."
   ]
  },
  {
   "cell_type": "code",
   "execution_count": 47,
   "metadata": {},
   "outputs": [
    {
     "data": {
      "text/plain": [
       "0"
      ]
     },
     "execution_count": 47,
     "metadata": {},
     "output_type": "execute_result"
    }
   ],
   "source": [
    "(pair_df[:-2000][\"target\"].to_numpy() == pair_df[2000:][\"target\"].to_numpy()).sum()"
   ]
  },
  {
   "cell_type": "code",
   "execution_count": 48,
   "metadata": {},
   "outputs": [],
   "source": [
    "neg_df = pd.DataFrame(pair_df[\"title1\"][2000:].reset_index(drop=True))\n",
    "neg_df[\"title2\"] = pair_df[\"title1\"][:-2000].reset_index(drop=True)\n",
    "neg_df[\"class\"] = 0\n",
    "pair_df = pair_df.drop(\"target\", axis=1)\n",
    "pair_df = pd.concat([pair_df, neg_df])"
   ]
  },
  {
   "cell_type": "markdown",
   "metadata": {},
   "source": [
    "Итоговая новая обучающая выборка под задачу классификации (110к объектов против исходных 20к). Важное замечание: классы заведомо построены сбалансированно, примерно поровну с погрешностью в 4к сдвинутых заголовков."
   ]
  },
  {
   "cell_type": "code",
   "execution_count": 49,
   "metadata": {},
   "outputs": [
    {
     "data": {
      "text/html": [
       "<div>\n",
       "<style scoped>\n",
       "    .dataframe tbody tr th:only-of-type {\n",
       "        vertical-align: middle;\n",
       "    }\n",
       "\n",
       "    .dataframe tbody tr th {\n",
       "        vertical-align: top;\n",
       "    }\n",
       "\n",
       "    .dataframe thead th {\n",
       "        text-align: right;\n",
       "    }\n",
       "</style>\n",
       "<table border=\"1\" class=\"dataframe\">\n",
       "  <thead>\n",
       "    <tr style=\"text-align: right;\">\n",
       "      <th></th>\n",
       "      <th>title1</th>\n",
       "      <th>title2</th>\n",
       "      <th>class</th>\n",
       "    </tr>\n",
       "  </thead>\n",
       "  <tbody>\n",
       "    <tr>\n",
       "      <th>0</th>\n",
       "      <td>[paper, bag, victoria, secret]</td>\n",
       "      <td>[paper, bag, victoria, secret]</td>\n",
       "      <td>1</td>\n",
       "    </tr>\n",
       "    <tr>\n",
       "      <th>1</th>\n",
       "      <td>[maling, tt, canned, pork, luncheon, meat, 397...</td>\n",
       "      <td>[maling, ham, pork, luncheon, meat, tt, 397gr]</td>\n",
       "      <td>1</td>\n",
       "    </tr>\n",
       "    <tr>\n",
       "      <th>2</th>\n",
       "      <td>[daster, batik, lengan, pendek, motif, acak, c...</td>\n",
       "      <td>[daster, piyama, katun, jepangtidak, bisa, pil...</td>\n",
       "      <td>1</td>\n",
       "    </tr>\n",
       "    <tr>\n",
       "      <th>3</th>\n",
       "      <td>[kulot, plisket, salur, candy, plisket, wish, ...</td>\n",
       "      <td>[kulot, plisket, momblu]</td>\n",
       "      <td>1</td>\n",
       "    </tr>\n",
       "    <tr>\n",
       "      <th>4</th>\n",
       "      <td>[logu, tempelan, kulkas, magnet, angka, tempel...</td>\n",
       "      <td>[10pcs, magnet, kulkas, model, angka, 09, baha...</td>\n",
       "      <td>1</td>\n",
       "    </tr>\n",
       "    <tr>\n",
       "      <th>...</th>\n",
       "      <td>...</td>\n",
       "      <td>...</td>\n",
       "      <td>...</td>\n",
       "    </tr>\n",
       "    <tr>\n",
       "      <th>53649</th>\n",
       "      <td>[fygalery, j189, jam, tangan, transparan, mere...</td>\n",
       "      <td>[gamis, murah, gamis, hyget]</td>\n",
       "      <td>0</td>\n",
       "    </tr>\n",
       "    <tr>\n",
       "      <th>53650</th>\n",
       "      <td>[flex, tape, isolasi, ajaib, super, kuat, rubb...</td>\n",
       "      <td>[restock, jilbabhijab, segi, tiga, instan, haw...</td>\n",
       "      <td>0</td>\n",
       "    </tr>\n",
       "    <tr>\n",
       "      <th>53651</th>\n",
       "      <td>[tempered, glass, samsung, galaxy, a30, a50, a...</td>\n",
       "      <td>[mouse, pad, gaming, hunter, original, asli]</td>\n",
       "      <td>0</td>\n",
       "    </tr>\n",
       "    <tr>\n",
       "      <th>53652</th>\n",
       "      <td>[lampu, huruf, az, dan, angka, 09, xe2x9dxa4xe...</td>\n",
       "      <td>[st, ives, glowing, apricot, sheet, mask, mask...</td>\n",
       "      <td>0</td>\n",
       "    </tr>\n",
       "    <tr>\n",
       "      <th>53653</th>\n",
       "      <td>[sprei, lady, rose, 180x200, king, terlaris, k...</td>\n",
       "      <td>[parfum, mobil, pengharum, mobil, pewangi, mob...</td>\n",
       "      <td>0</td>\n",
       "    </tr>\n",
       "  </tbody>\n",
       "</table>\n",
       "<p>109308 rows × 3 columns</p>\n",
       "</div>"
      ],
      "text/plain": [
       "                                                  title1  \\\n",
       "0                         [paper, bag, victoria, secret]   \n",
       "1      [maling, tt, canned, pork, luncheon, meat, 397...   \n",
       "2      [daster, batik, lengan, pendek, motif, acak, c...   \n",
       "3      [kulot, plisket, salur, candy, plisket, wish, ...   \n",
       "4      [logu, tempelan, kulkas, magnet, angka, tempel...   \n",
       "...                                                  ...   \n",
       "53649  [fygalery, j189, jam, tangan, transparan, mere...   \n",
       "53650  [flex, tape, isolasi, ajaib, super, kuat, rubb...   \n",
       "53651  [tempered, glass, samsung, galaxy, a30, a50, a...   \n",
       "53652  [lampu, huruf, az, dan, angka, 09, xe2x9dxa4xe...   \n",
       "53653  [sprei, lady, rose, 180x200, king, terlaris, k...   \n",
       "\n",
       "                                                  title2  class  \n",
       "0                         [paper, bag, victoria, secret]      1  \n",
       "1         [maling, ham, pork, luncheon, meat, tt, 397gr]      1  \n",
       "2      [daster, piyama, katun, jepangtidak, bisa, pil...      1  \n",
       "3                               [kulot, plisket, momblu]      1  \n",
       "4      [10pcs, magnet, kulkas, model, angka, 09, baha...      1  \n",
       "...                                                  ...    ...  \n",
       "53649                       [gamis, murah, gamis, hyget]      0  \n",
       "53650  [restock, jilbabhijab, segi, tiga, instan, haw...      0  \n",
       "53651       [mouse, pad, gaming, hunter, original, asli]      0  \n",
       "53652  [st, ives, glowing, apricot, sheet, mask, mask...      0  \n",
       "53653  [parfum, mobil, pengharum, mobil, pewangi, mob...      0  \n",
       "\n",
       "[109308 rows x 3 columns]"
      ]
     },
     "execution_count": 49,
     "metadata": {},
     "output_type": "execute_result"
    }
   ],
   "source": [
    "pair_df"
   ]
  },
  {
   "cell_type": "markdown",
   "metadata": {},
   "source": [
    "***Feature Engineering***"
   ]
  },
  {
   "cell_type": "markdown",
   "metadata": {},
   "source": [
    "Пойдем дальше в рассчете расстояний на заголовках. Заголовки - суть обычные строки из предобработанных токенов. Известно расстояние Левенштейна на строках (число перестановок). Используем некоторые его обобщения, а также другие строковые расстояния из библиотеки jellyfish."
   ]
  },
  {
   "cell_type": "code",
   "execution_count": 50,
   "metadata": {},
   "outputs": [],
   "source": [
    "pair_df[\"title1_str\"] = pair_df[\"title1\"].apply(lambda x: \" \".join(x))\n",
    "pair_df[\"title2_str\"] = pair_df[\"title2\"].apply(lambda x: \" \".join(x))"
   ]
  },
  {
   "cell_type": "code",
   "execution_count": 51,
   "metadata": {},
   "outputs": [
    {
     "name": "stdout",
     "output_type": "stream",
     "text": [
      "JF ENGINEERING OVER (9.6 sec)\n"
     ]
    }
   ],
   "source": [
    "pair_df[\"title1_str\"] = pair_df[\"title1\"].apply(lambda x: \" \".join(x))\n",
    "pair_df[\"title2_str\"] = pair_df[\"title2\"].apply(lambda x: \" \".join(x))\n",
    "pair_df[\"numbers1\"] = pair_df[\"title1_str\"].apply(lambda x: set(re.findall(r'[0-9]+', x)))\n",
    "pair_df[\"numbers2\"] = pair_df[\"title2_str\"].apply(lambda x: set(re.findall(r'[0-9]+', x)))\n",
    "\n",
    "s = time.time()\n",
    "\n",
    "pair_df[\"levenshtein_distance\"] = pair_df.apply(\n",
    "    lambda x: jf.levenshtein_distance(x[\"title1_str\"], x[\"title2_str\"]), axis=1)\n",
    "\n",
    "pair_df[\"damerau_levenshtein_distance\"] = pair_df.apply(\n",
    "    lambda x: jf.damerau_levenshtein_distance(x[\"title1_str\"], x[\"title2_str\"]), axis=1)\n",
    "\n",
    "pair_df[\"hamming_distance\"] = pair_df.apply(\n",
    "    lambda x: jf.hamming_distance(x[\"title1_str\"], x[\"title2_str\"]), axis=1)\n",
    "\n",
    "pair_df[\"jaro_similarity\"] = pair_df.apply(\n",
    "    lambda x: jf.jaro_similarity(x[\"title1_str\"], x[\"title2_str\"]), axis=1)\n",
    "\n",
    "pair_df[\"jaro_winkler_similarity\"] = pair_df.apply(\n",
    "    lambda x: jf.jaro_winkler_similarity(x[\"title1_str\"], x[\"title2_str\"]), axis=1)\n",
    "\n",
    "pair_df[\"match_rating_comparison\"] = pair_df.apply(\n",
    "    lambda x: jf.match_rating_comparison(x[\"title1_str\"], x[\"title2_str\"]), axis=1).fillna(False).astype(int)\n",
    "\n",
    "print(f\"JF ENGINEERING OVER ({round(time.time() - s, 2)} sec)\")"
   ]
  },
  {
   "cell_type": "markdown",
   "metadata": {},
   "source": [
    "Используем расстояния на строках из библиотеки FuzzyWuzzy - расстояния, учитывающие порядок, повторения, вхождение одной строки в другую. "
   ]
  },
  {
   "cell_type": "code",
   "execution_count": 52,
   "metadata": {},
   "outputs": [
    {
     "name": "stdout",
     "output_type": "stream",
     "text": [
      "FUZZ ENGINEERING OVER (436.63 sec)\n"
     ]
    }
   ],
   "source": [
    "s = time.time()\n",
    "\n",
    "pair_df[\"ratio\"] = pair_df.apply(\n",
    "    lambda x: fuzz.ratio(x[\"title1_str\"], x[\"title2_str\"]), axis=1)\n",
    "\n",
    "pair_df[\"token_sort_ratio\"] = pair_df.apply(\n",
    "    lambda x: fuzz.token_sort_ratio(x[\"title1_str\"], x[\"title2_str\"]), axis=1)\n",
    "\n",
    "pair_df[\"token_set_ratio\"] = pair_df.apply(\n",
    "    lambda x: fuzz.token_set_ratio(x[\"title1_str\"], x[\"title2_str\"]), axis=1)\n",
    "\n",
    "pair_df[\"partial_ratio\"] = pair_df.apply(\n",
    "    lambda x: fuzz.partial_ratio(x[\"title1_str\"], x[\"title2_str\"]), axis=1)\n",
    "\n",
    "pair_df[\"WRatio\"] = pair_df.apply(\n",
    "    lambda x: fuzz.WRatio(x[\"title1_str\"], x[\"title2_str\"]), axis=1)\n",
    "\n",
    "pair_df[\"UQRatio\"] = pair_df.apply(\n",
    "    lambda x: fuzz.UQRatio(x[\"title1_str\"], x[\"title2_str\"]), axis=1)\n",
    "\n",
    "pair_df[\"QRatio\"] = pair_df.apply(\n",
    "    lambda x: fuzz.QRatio(x[\"title1_str\"], x[\"title2_str\"]), axis=1)\n",
    "\n",
    "print(f\"FUZZ ENGINEERING OVER ({round(time.time() - s, 2)} sec)\")"
   ]
  },
  {
   "cell_type": "markdown",
   "metadata": {},
   "source": [
    "Не забудем и про идею с которой все начиналось - считаем мощность пересечения, и связанное с ним (нормировкой) расстояние Жаккарда. Еще одна плодотворная идея - учитывать только числовые значения (в заголовках товаров много неймингов моделей с числами, в духе \"PS5\", \"GTX3080\" и т.д.). Аналогично считаем пересечения и Жаккарда только на числах. Дополнительно добавим признаки длин каждого заголовка и суммы длин, то же для чисел."
   ]
  },
  {
   "cell_type": "code",
   "execution_count": 53,
   "metadata": {},
   "outputs": [
    {
     "name": "stdout",
     "output_type": "stream",
     "text": [
      "NUMBERS ENGINEERING OVER (10.74 sec)\n"
     ]
    }
   ],
   "source": [
    "s = time.time()\n",
    "\n",
    "pair_df[\"intersection\"] = pair_df.apply(\n",
    "    lambda x: len(set(x[\"title1\"]) & set(x[\"title2\"])), axis=1)\n",
    "\n",
    "pair_df[\"jaccard\"] = pair_df.apply(\n",
    "    lambda x: len(set(x[\"title1\"]) & set(x[\"title2\"])) / len(set(x[\"title1\"]) | set(x[\"title2\"])), axis=1)\n",
    "\n",
    "pair_df[\"len1\"] = pair_df.apply(\n",
    "    lambda x: len(x[\"title1\"]), axis=1)\n",
    "\n",
    "pair_df[\"len2\"] = pair_df.apply(\n",
    "    lambda x: len(x[\"title2\"]), axis=1)\n",
    "\n",
    "pair_df[\"lens\"] = pair_df.apply(\n",
    "    lambda x: len(x[\"title1\"]) + len(x[\"title2\"]), axis=1)\n",
    "\n",
    "pair_df[\"numbers_intersection\"] = pair_df.apply(\n",
    "    lambda x: len(set(x[\"numbers1\"]) & set(x[\"numbers2\"])), axis=1)\n",
    "\n",
    "pair_df[\"numbers_union\"] = pair_df.apply(\n",
    "    lambda x: len(set(x[\"numbers1\"]) | set(x[\"numbers2\"])), axis=1)\n",
    "\n",
    "pair_df[\"numbers_jaccard\"] = (pair_df[\"numbers_intersection\"] / pair_df[\"numbers_union\"]).fillna(0)\n",
    "\n",
    "pair_df[\"len_numbers1\"] = pair_df[\"numbers1\"].apply(lambda x: len(x))\n",
    "\n",
    "pair_df[\"len_numbers2\"] = pair_df[\"numbers1\"].apply(lambda x: len(x))\n",
    "\n",
    "print(f\"NUMBERS ENGINEERING OVER ({round(time.time() - s, 2)} sec)\")"
   ]
  },
  {
   "cell_type": "markdown",
   "metadata": {},
   "source": [
    "***Training***"
   ]
  },
  {
   "cell_type": "markdown",
   "metadata": {},
   "source": [
    "Будем решать задачу классификации градиентным бустингом XGBoost, гиперпараметры тюним с помощью optuna (некоторая рутина тюнинга опущена в финальном ноутбуке)."
   ]
  },
  {
   "cell_type": "code",
   "execution_count": 131,
   "metadata": {},
   "outputs": [],
   "source": [
    "features = ['levenshtein_distance', 'damerau_levenshtein_distance',\n",
    "       'hamming_distance', 'jaro_similarity', 'jaro_winkler_similarity',\n",
    "       'match_rating_comparison', 'ratio', 'token_sort_ratio',\n",
    "       'token_set_ratio', 'partial_ratio', 'WRatio', 'UQRatio', 'QRatio',\n",
    "       'intersection', 'jaccard', 'len1', 'len2', 'lens',\n",
    "       'numbers_intersection', 'numbers_union', 'numbers_jaccard',\n",
    "       'len_numbers1', 'len_numbers2']\n",
    "\n",
    "X = pair_df[features].values\n",
    "y = pair_df[\"class\"].values\n",
    "\n",
    "X_train_pd, X_val_pd, y_train_pd, y_val_pd = train_test_split(\n",
    "    pair_df,\n",
    "    pair_df[\"class\"],\n",
    "    test_size=0.3,\n",
    "    random_state=1337,\n",
    "    stratify=y\n",
    ")\n",
    "\n",
    "X_train, X_val = X_train_pd[features].values, X_val_pd[features].values\n",
    "y_train, y_val = y_train_pd.values, y_val_pd.values"
   ]
  },
  {
   "cell_type": "code",
   "execution_count": 113,
   "metadata": {},
   "outputs": [],
   "source": [
    "def opt(X_train, y_train, X_test, y_test, trial):\n",
    "    # based on https://www.kaggle.com/snakayama/xgboost-using-optuna\n",
    "    n_estimators = trial.suggest_int('n_estimators', 600, 800)\n",
    "    max_depth = trial.suggest_int('max_depth', 18, 30)\n",
    "    learning_rate = trial.suggest_discrete_uniform('learning_rate', 0.03, 0.1, 0.05)\n",
    "    scale_pos_weight = trial.suggest_int('scale_pos_weight', 4, 6)\n",
    "    subsample = trial.suggest_discrete_uniform('subsample', 0.7, 0.9, 0.1)\n",
    "    colsample_bytree = trial.suggest_discrete_uniform('colsample_bytree', 0.5, 0.8, 0.1)\n",
    "\n",
    "    xgboost_tuna = XGBClassifier(\n",
    "        n_estimators=n_estimators,\n",
    "        max_depth=max_depth,\n",
    "        random_state=1337, \n",
    "        min_child_weight=1,\n",
    "        learning_rate=learning_rate,\n",
    "        scale_pos_weight=scale_pos_weight,\n",
    "        subsample=subsample,\n",
    "        colsample_bytree=colsample_bytree, \n",
    "        eval_metric=\"logloss\"\n",
    "    )\n",
    "    xgboost_tuna.fit(X_train, y_train)\n",
    "    tuna_pred_test = xgboost_tuna.predict(X_test)\n",
    "    \n",
    "    return (1.0 - (f1_sklearn(y_test, tuna_pred_test)))"
   ]
  },
  {
   "cell_type": "code",
   "execution_count": 114,
   "metadata": {},
   "outputs": [
    {
     "name": "stderr",
     "output_type": "stream",
     "text": [
      "\u001b[32m[I 2021-10-27 23:52:07,126]\u001b[0m A new study created in memory with name: no-name-b3118812-8a5a-4267-abef-0f9bc32326db\u001b[0m\n",
      "\u001b[32m[I 2021-10-27 23:53:22,846]\u001b[0m Trial 0 finished with value: 0.014277108433734864 and parameters: {'n_estimators': 688, 'max_depth': 18, 'learning_rate': 0.03, 'scale_pos_weight': 5, 'subsample': 0.8999999999999999, 'colsample_bytree': 0.8}. Best is trial 0 with value: 0.014277108433734864.\u001b[0m\n",
      "\u001b[32m[I 2021-10-27 23:54:52,394]\u001b[0m Trial 1 finished with value: 0.014014044181911323 and parameters: {'n_estimators': 747, 'max_depth': 26, 'learning_rate': 0.03, 'scale_pos_weight': 5, 'subsample': 0.8999999999999999, 'colsample_bytree': 0.7}. Best is trial 1 with value: 0.014014044181911323.\u001b[0m\n",
      "\u001b[32m[I 2021-10-27 23:56:45,220]\u001b[0m Trial 2 finished with value: 0.01419315956004219 and parameters: {'n_estimators': 778, 'max_depth': 27, 'learning_rate': 0.03, 'scale_pos_weight': 5, 'subsample': 0.8999999999999999, 'colsample_bytree': 0.8}. Best is trial 1 with value: 0.014014044181911323.\u001b[0m\n",
      "\u001b[32m[I 2021-10-27 23:57:59,111]\u001b[0m Trial 3 finished with value: 0.014038681689461985 and parameters: {'n_estimators': 602, 'max_depth': 23, 'learning_rate': 0.03, 'scale_pos_weight': 6, 'subsample': 0.7999999999999999, 'colsample_bytree': 0.7}. Best is trial 1 with value: 0.014014044181911323.\u001b[0m\n",
      "\u001b[32m[I 2021-10-27 23:59:28,421]\u001b[0m Trial 4 finished with value: 0.014285714285714235 and parameters: {'n_estimators': 757, 'max_depth': 22, 'learning_rate': 0.03, 'scale_pos_weight': 5, 'subsample': 0.7, 'colsample_bytree': 0.8}. Best is trial 1 with value: 0.014014044181911323.\u001b[0m\n",
      "\u001b[32m[I 2021-10-28 00:00:44,361]\u001b[0m Trial 5 finished with value: 0.014444678990380266 and parameters: {'n_estimators': 779, 'max_depth': 23, 'learning_rate': 0.08, 'scale_pos_weight': 4, 'subsample': 0.8999999999999999, 'colsample_bytree': 0.5}. Best is trial 1 with value: 0.014014044181911323.\u001b[0m\n",
      "\u001b[32m[I 2021-10-28 00:02:03,454]\u001b[0m Trial 6 finished with value: 0.01449712167334749 and parameters: {'n_estimators': 621, 'max_depth': 27, 'learning_rate': 0.03, 'scale_pos_weight': 4, 'subsample': 0.7, 'colsample_bytree': 0.7}. Best is trial 1 with value: 0.014014044181911323.\u001b[0m\n",
      "\u001b[32m[I 2021-10-28 00:03:03,010]\u001b[0m Trial 7 finished with value: 0.014560911639685314 and parameters: {'n_estimators': 787, 'max_depth': 22, 'learning_rate': 0.08, 'scale_pos_weight': 6, 'subsample': 0.7, 'colsample_bytree': 0.5}. Best is trial 1 with value: 0.014014044181911323.\u001b[0m\n",
      "\u001b[32m[I 2021-10-28 00:04:08,255]\u001b[0m Trial 8 finished with value: 0.014408005787316158 and parameters: {'n_estimators': 611, 'max_depth': 18, 'learning_rate': 0.03, 'scale_pos_weight': 4, 'subsample': 0.8999999999999999, 'colsample_bytree': 0.6}. Best is trial 1 with value: 0.014014044181911323.\u001b[0m\n",
      "\u001b[32m[I 2021-10-28 00:05:15,595]\u001b[0m Trial 9 finished with value: 0.014497995599360936 and parameters: {'n_estimators': 650, 'max_depth': 27, 'learning_rate': 0.03, 'scale_pos_weight': 4, 'subsample': 0.7999999999999999, 'colsample_bytree': 0.6}. Best is trial 1 with value: 0.014014044181911323.\u001b[0m\n"
     ]
    }
   ],
   "source": [
    "study = optuna.create_study()\n",
    "study.optimize(functools.partial(opt, X_train, y_train, X_val, y_val), n_trials=10)"
   ]
  },
  {
   "cell_type": "code",
   "execution_count": 116,
   "metadata": {},
   "outputs": [
    {
     "name": "stdout",
     "output_type": "stream",
     "text": [
      "FINISH xgb fitting (68.661 sec))\n"
     ]
    }
   ],
   "source": [
    "xgb = XGBClassifier(eval_metric=\"logloss\", **study.best_params)\n",
    "s = time.time()\n",
    "xgb.fit(X_train, y_train)\n",
    "print(f\"FINISH xgb fitting ({round(time.time() - s, 3)} sec))\")"
   ]
  },
  {
   "cell_type": "markdown",
   "metadata": {},
   "source": [
    "***Evaluation***"
   ]
  },
  {
   "cell_type": "markdown",
   "metadata": {},
   "source": [
    "Посмотрим на классические метрики бинарной классификации. \n",
    "\n",
    "ВАЖНО: здесь F1 для задачи классификации, не путать с построчным F1, который был до этого"
   ]
  },
  {
   "cell_type": "code",
   "execution_count": 117,
   "metadata": {},
   "outputs": [],
   "source": [
    "y_pred = xgb.predict(X_val)"
   ]
  },
  {
   "cell_type": "code",
   "execution_count": 111,
   "metadata": {},
   "outputs": [
    {
     "name": "stdout",
     "output_type": "stream",
     "text": [
      "F1 = 0.9855640276061601\n",
      "ROC AUC = 0.9855073960471465\n",
      "============\n",
      "              precision    recall  f1-score   support\n",
      "\n",
      "           0       0.98      0.99      0.99     16096\n",
      "           1       0.99      0.98      0.99     16697\n",
      "\n",
      "    accuracy                           0.99     32793\n",
      "   macro avg       0.99      0.99      0.99     32793\n",
      "weighted avg       0.99      0.99      0.99     32793\n",
      "\n"
     ]
    }
   ],
   "source": [
    "print(f\"F1 = {f1_sklearn(y_val, y_pred)}\")\n",
    "print(f\"ROC AUC = {roc_auc_score(y_val, y_pred)}\")\n",
    "print(\"============\")\n",
    "print(classification_report(y_val, y_pred))"
   ]
  },
  {
   "cell_type": "markdown",
   "metadata": {},
   "source": [
    "Бустинг решает задачу с почти 100% качеством. Тем не менее, в реальной жизни качество будет меньше, т.к. во-первых реальное распределение пар строк смещено (в реальности примеров класса 0 гораздо больше). Во-вторых, объект - пара строк содержит в себе исходные строки, а эти исходные строки могут попасть и в контроль. Поэтому для оценки на реальных данных стоит дополнительно набрать в валидационную выборку совсем уникальные строки, которые модель вообще не видела (хоть и признаковое описание не содержит самих строк, а лишь попарные расстояния).\n",
    "\n",
    "Посмотрим на важность признаков."
   ]
  },
  {
   "cell_type": "code",
   "execution_count": 119,
   "metadata": {},
   "outputs": [
    {
     "data": {
      "text/html": [
       "<div>\n",
       "<style scoped>\n",
       "    .dataframe tbody tr th:only-of-type {\n",
       "        vertical-align: middle;\n",
       "    }\n",
       "\n",
       "    .dataframe tbody tr th {\n",
       "        vertical-align: top;\n",
       "    }\n",
       "\n",
       "    .dataframe thead th {\n",
       "        text-align: right;\n",
       "    }\n",
       "</style>\n",
       "<table border=\"1\" class=\"dataframe\">\n",
       "  <thead>\n",
       "    <tr style=\"text-align: right;\">\n",
       "      <th></th>\n",
       "      <th>Importance</th>\n",
       "    </tr>\n",
       "  </thead>\n",
       "  <tbody>\n",
       "    <tr>\n",
       "      <th>intersection</th>\n",
       "      <td>683.008362</td>\n",
       "    </tr>\n",
       "    <tr>\n",
       "      <th>jaccard</th>\n",
       "      <td>199.157211</td>\n",
       "    </tr>\n",
       "    <tr>\n",
       "      <th>WRatio</th>\n",
       "      <td>15.587306</td>\n",
       "    </tr>\n",
       "    <tr>\n",
       "      <th>numbers_intersection</th>\n",
       "      <td>5.475574</td>\n",
       "    </tr>\n",
       "    <tr>\n",
       "      <th>numbers_jaccard</th>\n",
       "      <td>3.890963</td>\n",
       "    </tr>\n",
       "    <tr>\n",
       "      <th>token_set_ratio</th>\n",
       "      <td>3.793882</td>\n",
       "    </tr>\n",
       "    <tr>\n",
       "      <th>token_sort_ratio</th>\n",
       "      <td>3.109800</td>\n",
       "    </tr>\n",
       "    <tr>\n",
       "      <th>QRatio</th>\n",
       "      <td>3.002324</td>\n",
       "    </tr>\n",
       "    <tr>\n",
       "      <th>partial_ratio</th>\n",
       "      <td>2.786645</td>\n",
       "    </tr>\n",
       "    <tr>\n",
       "      <th>match_rating_comparison</th>\n",
       "      <td>2.749792</td>\n",
       "    </tr>\n",
       "    <tr>\n",
       "      <th>numbers_union</th>\n",
       "      <td>2.612166</td>\n",
       "    </tr>\n",
       "    <tr>\n",
       "      <th>UQRatio</th>\n",
       "      <td>2.339201</td>\n",
       "    </tr>\n",
       "    <tr>\n",
       "      <th>lens</th>\n",
       "      <td>2.320755</td>\n",
       "    </tr>\n",
       "    <tr>\n",
       "      <th>levenshtein_distance</th>\n",
       "      <td>2.197624</td>\n",
       "    </tr>\n",
       "    <tr>\n",
       "      <th>len_numbers1</th>\n",
       "      <td>2.194899</td>\n",
       "    </tr>\n",
       "    <tr>\n",
       "      <th>len_numbers2</th>\n",
       "      <td>2.131955</td>\n",
       "    </tr>\n",
       "    <tr>\n",
       "      <th>jaro_winkler_similarity</th>\n",
       "      <td>2.076622</td>\n",
       "    </tr>\n",
       "    <tr>\n",
       "      <th>len2</th>\n",
       "      <td>2.058212</td>\n",
       "    </tr>\n",
       "    <tr>\n",
       "      <th>ratio</th>\n",
       "      <td>2.034966</td>\n",
       "    </tr>\n",
       "    <tr>\n",
       "      <th>len1</th>\n",
       "      <td>2.003465</td>\n",
       "    </tr>\n",
       "    <tr>\n",
       "      <th>jaro_similarity</th>\n",
       "      <td>1.963837</td>\n",
       "    </tr>\n",
       "    <tr>\n",
       "      <th>hamming_distance</th>\n",
       "      <td>1.943248</td>\n",
       "    </tr>\n",
       "    <tr>\n",
       "      <th>damerau_levenshtein_distance</th>\n",
       "      <td>1.940539</td>\n",
       "    </tr>\n",
       "  </tbody>\n",
       "</table>\n",
       "</div>"
      ],
      "text/plain": [
       "                              Importance\n",
       "intersection                  683.008362\n",
       "jaccard                       199.157211\n",
       "WRatio                         15.587306\n",
       "numbers_intersection            5.475574\n",
       "numbers_jaccard                 3.890963\n",
       "token_set_ratio                 3.793882\n",
       "token_sort_ratio                3.109800\n",
       "QRatio                          3.002324\n",
       "partial_ratio                   2.786645\n",
       "match_rating_comparison         2.749792\n",
       "numbers_union                   2.612166\n",
       "UQRatio                         2.339201\n",
       "lens                            2.320755\n",
       "levenshtein_distance            2.197624\n",
       "len_numbers1                    2.194899\n",
       "len_numbers2                    2.131955\n",
       "jaro_winkler_similarity         2.076622\n",
       "len2                            2.058212\n",
       "ratio                           2.034966\n",
       "len1                            2.003465\n",
       "jaro_similarity                 1.963837\n",
       "hamming_distance                1.943248\n",
       "damerau_levenshtein_distance    1.940539"
      ]
     },
     "execution_count": 119,
     "metadata": {},
     "output_type": "execute_result"
    }
   ],
   "source": [
    "raw_importance_scores = xgb.get_booster().get_score(importance_type=\"gain\")\n",
    "importance_scores = {features[int(key[1:])]: \n",
    "                     [raw_importance_scores[key]] for key in raw_importance_scores}\n",
    "\n",
    "pd.DataFrame.from_dict(\n",
    "    importance_scores, orient=\"index\", columns=[\"Importance\"]\n",
    ").sort_values(\"Importance\", ascending=False)"
   ]
  },
  {
   "cell_type": "markdown",
   "metadata": {},
   "source": [
    "Приятно отметить, что **самый важный признак модели - мощность пересечения**, с которой все и начиналось.\n",
    "\n",
    "Также важны расстояние Жаккарда (которое связано с пересечением), WRatio - усреднение строковых расстояний библиотеки FuzzyWuzzy.\n",
    "\n",
    "Отдельно отметим важность пересечения и Жаккарда только на числовых токенах (пример с PS5)."
   ]
  },
  {
   "cell_type": "markdown",
   "metadata": {},
   "source": [
    "Наконец, оценим решение с помощью исходной построчной F1 меры. Решейпим пары обратно."
   ]
  },
  {
   "cell_type": "code",
   "execution_count": 179,
   "metadata": {},
   "outputs": [],
   "source": [
    "def convert_pairs_back(pairs, y): # pairs = X_val_pd, y = class\n",
    "    output = {}\n",
    "    for _, pair in pairs[y == 1].iterrows():\n",
    "        title1, title2 = pair[\"title1_str\"], pair[\"title2_str\"]\n",
    "        if title1 in output:\n",
    "            output[title1].add(title2)\n",
    "        else:\n",
    "            output[title1] = {title1, title2}\n",
    "        if title2 in output:\n",
    "            output[title2].add(title1)\n",
    "        else:\n",
    "            output[title2] = {title1, title2}\n",
    "    return output"
   ]
  },
  {
   "cell_type": "code",
   "execution_count": 232,
   "metadata": {},
   "outputs": [],
   "source": [
    "def honest_evaluation(X, y, y_pred):   \n",
    "    converted_dict_true = convert_pairs_back(X, y)\n",
    "    converted_dict_pred = convert_pairs_back(X, y_pred)\n",
    "    codes = {key: i for i, key in enumerate(set(converted_dict_true.keys()) | set(converted_dict_pred.keys()))}\n",
    "\n",
    "    true_col = []\n",
    "    pred_col = []\n",
    "\n",
    "    for key in converted_dict_true:\n",
    "        if key in converted_dict_pred:\n",
    "            pred_set = converted_dict_pred[key]\n",
    "            pred_col.append(\" \".join([str(codes[val]) for val in pred_set]))\n",
    "        else:\n",
    "            pred_col.append(\" \")\n",
    "\n",
    "        true_set = converted_dict_true[key]\n",
    "        true_col.append(\" \".join([str(codes[val]) for val in true_set]))\n",
    "        \n",
    "    print(f\"Построчный F1 = {f1_score(pd.Series(true_col), pd.Series(pred_col)).mean()}\")"
   ]
  },
  {
   "cell_type": "code",
   "execution_count": 233,
   "metadata": {},
   "outputs": [
    {
     "name": "stdout",
     "output_type": "stream",
     "text": [
      "Построчный F1 = 0.9837552217331322\n"
     ]
    }
   ],
   "source": [
    "# test\n",
    "honest_evaluation(X_val_pd, y_val_pd, y_pred)"
   ]
  },
  {
   "cell_type": "markdown",
   "metadata": {},
   "source": [
    "**Качество 0.984**. Это построчная F1-мера на отложенной выборке. Помним, что нужно делать поправку на некорректный подсчет этой меры, предложенный в условии, а также на смещенное распределение класса 0 в реальной жизни."
   ]
  },
  {
   "cell_type": "markdown",
   "metadata": {},
   "source": [
    "### Обобщение на большие данные"
   ]
  },
  {
   "cell_type": "markdown",
   "metadata": {},
   "source": [
    "Некоторые размышления по обобщению предложенных решений на большие данные. Понятное дело, что подсчитывать полную матрицу попарных расстояний на всех объектах - затруднительно (хотя кажется возможным, если разбивать на блоки). \n",
    "\n",
    "Я бы предложил посмотреть на задачу со стороны задачи классификации. Нужно абстрагироваться до работы с парами объектов - например, смотреть на батчи пар заголовков. На парах можно быстро считать все строковые расстояния и быстро классифицировать пару. Если есть обученный энкодер (тем не менее, стоит задуматься - решать задачу нейронками на таких данных, не равно ли стрельбе из пушек по воробьям?) - можно так же быстро получать эмбеддинги для заголовков в паре и считать расстояния уже на эмбеддингах."
   ]
  },
  {
   "cell_type": "markdown",
   "metadata": {},
   "source": [
    "### Что можно улучшить?\n",
    "\n",
    "В пайплайне с metric learning усложнить энкодер (добавить аттеншн, поменять LSTM на GRU, посмотреть на сверточные сети вместо рекуррентных или вообще на берт), потюнить лосс (в том же pytorch-metric-learning много более современных).\n",
    "\n",
    "В пайплайне с бустингом и строковым расстояниями почистить нагенеренные признаки, оставить минимальный набор, тем не менее дающий высокое качество - чтобы иметь возможность быстро посчитать признаки на паре строк.\n",
    "\n",
    "Ну и наконец, совместить эти две идеи."
   ]
  },
  {
   "cell_type": "markdown",
   "metadata": {
    "id": "NJ7hQcMPN3yU"
   },
   "source": [
    "## Ключевые референсы:\n",
    "**(Код писался самостоятельно, если противное не оговорено в комментарии)**\n",
    "\n",
    "Архитектура энкодера:\n",
    "\n",
    "-    https://pytorch.org/tutorials/intermediate/char_rnn_classification_tutorial\n",
    "\n",
    "-    https://pytorch.org/tutorials/intermediate/seq2seq_translation_tutorial.html\n",
    "\n",
    "Паддинг и пакинг батчей последовательностей произвольной длины в RNN:\n",
    "\n",
    "-    https://gist.github.com/HarshTrivedi/f4e7293e941b17d19058f6fb90ab0fec\n",
    "\n",
    "Обучение metric-learning архитектур:\n",
    "\n",
    "-    https://kevinmusgrave.github.io/pytorch-metric-learning/\n",
    "\n",
    "Генерация признаков на паре строк:\n",
    "\n",
    "-    https://jellyfish.readthedocs.io/en/latest/comparison.html\n",
    "\n",
    "-    https://habr.com/ru/post/491448/\n",
    "\n",
    "-    https://tirinox.ru/fuzzywuzzy-python/\n",
    "\n",
    "Подбор гиперпараметров с помощью optuna:\n",
    "\n",
    "-    https://www.kaggle.com/snakayama/xgboost-using-optuna"
   ]
  }
 ],
 "metadata": {
  "accelerator": "GPU",
  "colab": {
   "name": "test_example-2.ipynb",
   "provenance": []
  },
  "kernelspec": {
   "display_name": "Python 3",
   "language": "python",
   "name": "python3"
  },
  "language_info": {
   "codemirror_mode": {
    "name": "ipython",
    "version": 3
   },
   "file_extension": ".py",
   "mimetype": "text/x-python",
   "name": "python",
   "nbconvert_exporter": "python",
   "pygments_lexer": "ipython3",
   "version": "3.8.12"
  }
 },
 "nbformat": 4,
 "nbformat_minor": 1
}
